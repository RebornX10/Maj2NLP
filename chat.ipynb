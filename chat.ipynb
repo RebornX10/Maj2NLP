{
 "cells": [
  {
   "cell_type": "code",
   "execution_count": 1,
   "metadata": {
    "collapsed": true
   },
   "outputs": [],
   "source": [
    "import re\n",
    "import difflib\n",
    "import pandas as pd"
   ]
  },
  {
   "cell_type": "code",
   "execution_count": 2,
   "outputs": [],
   "source": [
    "questions_df = pd.read_csv('data/questions_preprocessed.csv', encoding_errors='replace')\n",
    "answers_df = pd.read_csv('data/answers_preprocessed.csv', encoding_errors='replace')"
   ],
   "metadata": {}
  },
  {
   "cell_type": "code",
   "execution_count": 3,
   "outputs": [],
   "source": [
    "def find_similar_question(question):\n",
    "    highest_similarity = 0\n",
    "    most_similar_question = ''\n",
    "\n",
    "    for index, row in questions_df.iterrows():\n",
    "        # Get the question text\n",
    "        q = row['Title']\n",
    "        similarity = difflib.SequenceMatcher(None, question, q).ratio()\n",
    "        if similarity > highest_similarity:\n",
    "            highest_similarity = similarity\n",
    "            most_similar_question = q\n",
    "\n",
    "    # Return the most similar question\n",
    "    return most_similar_question"
   ],
   "metadata": {}
  },
  {
   "cell_type": "code",
   "execution_count": 4,
   "outputs": [],
   "source": [
    "def find_relevant_answer(question):\n",
    "    most_similar_question = find_similar_question(question)\n",
    "    print(most_similar_question)\n",
    "    question_id = questions_df[questions_df['Title'] == most_similar_question]['Id'].values\n",
    "    print(f\"QuestionID: {question_id}\")\n",
    "    answers = answers_df[answers_df['ParentId'] == question_id]\n",
    "    print(f\"Answers list: {answers}\")\n",
    "    answers = answers.sort_values(by=['Score'], ascending=False)\n",
    "    print(f\"answers, but sorted list: {answers}\")\n",
    "    return answers['Body']"
   ],
   "metadata": {
    "collapsed": false
   }
  },
  {
   "cell_type": "code",
   "execution_count": 5,
   "outputs": [
    {
     "ename": "TypeError",
     "evalue": "'float' object is not iterable",
     "output_type": "error",
     "traceback": [
      "\u001B[0;31m---------------------------------------------------------------------------\u001B[0m",
      "\u001B[0;31mTypeError\u001B[0m                                 Traceback (most recent call last)",
      "Cell \u001B[0;32mIn[5], line 4\u001B[0m\n\u001B[1;32m      2\u001B[0m \u001B[38;5;28;01mif\u001B[39;00m question\u001B[38;5;241m.\u001B[39mlower() \u001B[38;5;241m==\u001B[39m \u001B[38;5;124m'\u001B[39m\u001B[38;5;124mexit\u001B[39m\u001B[38;5;124m'\u001B[39m:\n\u001B[1;32m      3\u001B[0m     \u001B[38;5;28mprint\u001B[39m(\u001B[38;5;124m'\u001B[39m\u001B[38;5;124mExiting chatbot...\u001B[39m\u001B[38;5;124m'\u001B[39m)\n\u001B[0;32m----> 4\u001B[0m answer \u001B[38;5;241m=\u001B[39m \u001B[43mfind_relevant_answer\u001B[49m\u001B[43m(\u001B[49m\u001B[43mquestion\u001B[49m\u001B[43m)\u001B[49m\n\u001B[1;32m      5\u001B[0m \u001B[38;5;28mprint\u001B[39m(answer)\n",
      "Cell \u001B[0;32mIn[4], line 2\u001B[0m, in \u001B[0;36mfind_relevant_answer\u001B[0;34m(question)\u001B[0m\n\u001B[1;32m      1\u001B[0m \u001B[38;5;28;01mdef\u001B[39;00m \u001B[38;5;21mfind_relevant_answer\u001B[39m(question):\n\u001B[0;32m----> 2\u001B[0m     most_similar_question \u001B[38;5;241m=\u001B[39m \u001B[43mfind_similar_question\u001B[49m\u001B[43m(\u001B[49m\u001B[43mquestion\u001B[49m\u001B[43m)\u001B[49m\n\u001B[1;32m      3\u001B[0m     \u001B[38;5;28mprint\u001B[39m(most_similar_question)\n\u001B[1;32m      4\u001B[0m     question_id \u001B[38;5;241m=\u001B[39m questions_df[questions_df[\u001B[38;5;124m'\u001B[39m\u001B[38;5;124mTitle\u001B[39m\u001B[38;5;124m'\u001B[39m] \u001B[38;5;241m==\u001B[39m most_similar_question][\u001B[38;5;124m'\u001B[39m\u001B[38;5;124mId\u001B[39m\u001B[38;5;124m'\u001B[39m]\u001B[38;5;241m.\u001B[39mvalues\n",
      "Cell \u001B[0;32mIn[3], line 8\u001B[0m, in \u001B[0;36mfind_similar_question\u001B[0;34m(question)\u001B[0m\n\u001B[1;32m      5\u001B[0m \u001B[38;5;28;01mfor\u001B[39;00m index, row \u001B[38;5;129;01min\u001B[39;00m questions_df\u001B[38;5;241m.\u001B[39miterrows():\n\u001B[1;32m      6\u001B[0m     \u001B[38;5;66;03m# Get the question text\u001B[39;00m\n\u001B[1;32m      7\u001B[0m     q \u001B[38;5;241m=\u001B[39m row[\u001B[38;5;124m'\u001B[39m\u001B[38;5;124mTitle\u001B[39m\u001B[38;5;124m'\u001B[39m]\n\u001B[0;32m----> 8\u001B[0m     similarity \u001B[38;5;241m=\u001B[39m \u001B[43mdifflib\u001B[49m\u001B[38;5;241;43m.\u001B[39;49m\u001B[43mSequenceMatcher\u001B[49m\u001B[43m(\u001B[49m\u001B[38;5;28;43;01mNone\u001B[39;49;00m\u001B[43m,\u001B[49m\u001B[43m \u001B[49m\u001B[43mquestion\u001B[49m\u001B[43m,\u001B[49m\u001B[43m \u001B[49m\u001B[43mq\u001B[49m\u001B[43m)\u001B[49m\u001B[38;5;241m.\u001B[39mratio()\n\u001B[1;32m      9\u001B[0m     \u001B[38;5;28;01mif\u001B[39;00m similarity \u001B[38;5;241m>\u001B[39m highest_similarity:\n\u001B[1;32m     10\u001B[0m         highest_similarity \u001B[38;5;241m=\u001B[39m similarity\n",
      "File \u001B[0;32m/usr/lib/python3.9/difflib.py:214\u001B[0m, in \u001B[0;36mSequenceMatcher.__init__\u001B[0;34m(self, isjunk, a, b, autojunk)\u001B[0m\n\u001B[1;32m    212\u001B[0m \u001B[38;5;28mself\u001B[39m\u001B[38;5;241m.\u001B[39ma \u001B[38;5;241m=\u001B[39m \u001B[38;5;28mself\u001B[39m\u001B[38;5;241m.\u001B[39mb \u001B[38;5;241m=\u001B[39m \u001B[38;5;28;01mNone\u001B[39;00m\n\u001B[1;32m    213\u001B[0m \u001B[38;5;28mself\u001B[39m\u001B[38;5;241m.\u001B[39mautojunk \u001B[38;5;241m=\u001B[39m autojunk\n\u001B[0;32m--> 214\u001B[0m \u001B[38;5;28;43mself\u001B[39;49m\u001B[38;5;241;43m.\u001B[39;49m\u001B[43mset_seqs\u001B[49m\u001B[43m(\u001B[49m\u001B[43ma\u001B[49m\u001B[43m,\u001B[49m\u001B[43m \u001B[49m\u001B[43mb\u001B[49m\u001B[43m)\u001B[49m\n",
      "File \u001B[0;32m/usr/lib/python3.9/difflib.py:226\u001B[0m, in \u001B[0;36mSequenceMatcher.set_seqs\u001B[0;34m(self, a, b)\u001B[0m\n\u001B[1;32m    217\u001B[0m \u001B[38;5;124;03m\"\"\"Set the two sequences to be compared.\u001B[39;00m\n\u001B[1;32m    218\u001B[0m \n\u001B[1;32m    219\u001B[0m \u001B[38;5;124;03m>>> s = SequenceMatcher()\u001B[39;00m\n\u001B[0;32m   (...)\u001B[0m\n\u001B[1;32m    222\u001B[0m \u001B[38;5;124;03m0.75\u001B[39;00m\n\u001B[1;32m    223\u001B[0m \u001B[38;5;124;03m\"\"\"\u001B[39;00m\n\u001B[1;32m    225\u001B[0m \u001B[38;5;28mself\u001B[39m\u001B[38;5;241m.\u001B[39mset_seq1(a)\n\u001B[0;32m--> 226\u001B[0m \u001B[38;5;28;43mself\u001B[39;49m\u001B[38;5;241;43m.\u001B[39;49m\u001B[43mset_seq2\u001B[49m\u001B[43m(\u001B[49m\u001B[43mb\u001B[49m\u001B[43m)\u001B[49m\n",
      "File \u001B[0;32m/usr/lib/python3.9/difflib.py:280\u001B[0m, in \u001B[0;36mSequenceMatcher.set_seq2\u001B[0;34m(self, b)\u001B[0m\n\u001B[1;32m    278\u001B[0m \u001B[38;5;28mself\u001B[39m\u001B[38;5;241m.\u001B[39mmatching_blocks \u001B[38;5;241m=\u001B[39m \u001B[38;5;28mself\u001B[39m\u001B[38;5;241m.\u001B[39mopcodes \u001B[38;5;241m=\u001B[39m \u001B[38;5;28;01mNone\u001B[39;00m\n\u001B[1;32m    279\u001B[0m \u001B[38;5;28mself\u001B[39m\u001B[38;5;241m.\u001B[39mfullbcount \u001B[38;5;241m=\u001B[39m \u001B[38;5;28;01mNone\u001B[39;00m\n\u001B[0;32m--> 280\u001B[0m \u001B[38;5;28;43mself\u001B[39;49m\u001B[38;5;241;43m.\u001B[39;49m\u001B[43m__chain_b\u001B[49m\u001B[43m(\u001B[49m\u001B[43m)\u001B[49m\n",
      "File \u001B[0;32m/usr/lib/python3.9/difflib.py:312\u001B[0m, in \u001B[0;36mSequenceMatcher.__chain_b\u001B[0;34m(self)\u001B[0m\n\u001B[1;32m    309\u001B[0m b \u001B[38;5;241m=\u001B[39m \u001B[38;5;28mself\u001B[39m\u001B[38;5;241m.\u001B[39mb\n\u001B[1;32m    310\u001B[0m \u001B[38;5;28mself\u001B[39m\u001B[38;5;241m.\u001B[39mb2j \u001B[38;5;241m=\u001B[39m b2j \u001B[38;5;241m=\u001B[39m {}\n\u001B[0;32m--> 312\u001B[0m \u001B[38;5;28;01mfor\u001B[39;00m i, elt \u001B[38;5;129;01min\u001B[39;00m \u001B[38;5;28;43menumerate\u001B[39;49m\u001B[43m(\u001B[49m\u001B[43mb\u001B[49m\u001B[43m)\u001B[49m:\n\u001B[1;32m    313\u001B[0m     indices \u001B[38;5;241m=\u001B[39m b2j\u001B[38;5;241m.\u001B[39msetdefault(elt, [])\n\u001B[1;32m    314\u001B[0m     indices\u001B[38;5;241m.\u001B[39mappend(i)\n",
      "\u001B[0;31mTypeError\u001B[0m: 'float' object is not iterable"
     ]
    }
   ],
   "source": [
    "question = \"file over http\"  #input('Please enter your question: ')\n",
    "if question.lower() == 'exit':\n",
    "    print('Exiting chatbot...')\n",
    "answer = find_relevant_answer(question)\n",
    "print(answer)"
   ],
   "metadata": {
    "collapsed": false
   }
  }
 ],
 "metadata": {
  "kernelspec": {
   "display_name": "chatbot",
   "language": "python",
   "name": "python3"
  },
  "language_info": {
   "codemirror_mode": {
    "name": "ipython",
    "version": 2
   },
   "file_extension": ".py",
   "mimetype": "text/x-python",
   "name": "python",
   "nbconvert_exporter": "python",
   "pygments_lexer": "ipython2",
   "version": "3.7.15 (default, Nov 24 2022, 18:44:54) [MSC v.1916 64 bit (AMD64)]"
  },
  "vscode": {
   "interpreter": {
    "hash": "03041b0ab7cd1638a53e9defcca4554f53cc9626e5c5fef97f44058438290e8d"
   }
  }
 },
 "nbformat": 4,
 "nbformat_minor": 0
}
