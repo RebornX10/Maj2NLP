{
  "cells": [
    {
      "cell_type": "code",
      "execution_count": 50,
      "metadata": {
        "colab": {
          "base_uri": "https://localhost:8080/"
        },
        "id": "rV_iDNoCnM4B",
        "outputId": "21efae04-2b7c-4beb-ccbf-aaf3368fc848"
      },
      "outputs": [
        {
          "name": "stderr",
          "output_type": "stream",
          "text": [
            "[nltk_data] Downloading package stopwords to\n",
            "[nltk_data]     C:\\Users\\bouba\\AppData\\Roaming\\nltk_data...\n",
            "[nltk_data]   Package stopwords is already up-to-date!\n",
            "[nltk_data] Downloading package punkt to\n",
            "[nltk_data]     C:\\Users\\bouba\\AppData\\Roaming\\nltk_data...\n",
            "[nltk_data]   Package punkt is already up-to-date!\n"
          ]
        },
        {
          "data": {
            "text/plain": [
              "True"
            ]
          },
          "execution_count": 50,
          "metadata": {},
          "output_type": "execute_result"
        }
      ],
      "source": [
        "import nltk\n",
        "nltk.download('stopwords')\n",
        "nltk.download('punkt')"
      ]
    },
    {
      "cell_type": "code",
      "execution_count": null,
      "metadata": {
        "colab": {
          "base_uri": "https://localhost:8080/"
        },
        "id": "a8mN8g8WnVlf",
        "outputId": "bfabbef4-f083-4320-f820-c93b3b67c8d4"
      },
      "outputs": [],
      "source": []
    },
    {
      "cell_type": "code",
      "execution_count": 51,
      "metadata": {
        "colab": {
          "base_uri": "https://localhost:8080/",
          "height": 17
        },
        "id": "39bUc_QmhHd8",
        "outputId": "b3b37367-ed6a-4d53-87d4-70e5f4a19544"
      },
      "outputs": [],
      "source": [
        "import numpy as np\n",
        "import pandas as pd\n",
        "from sklearn import preprocessing,metrics,manifold\n",
        "from sklearn.manifold import TSNE\n",
        "from sklearn.model_selection import train_test_split,cross_val_score,GridSearchCV,cross_val_predict\n",
        "\n",
        "from sklearn.linear_model import LogisticRegression\n",
        "from sklearn.svm import SVC\n",
        "from sklearn.neighbors import KNeighborsClassifier\n",
        "from sklearn.tree import DecisionTreeClassifier\n",
        "from sklearn.ensemble import RandomForestClassifier\n",
        "from sklearn.discriminant_analysis import LinearDiscriminantAnalysis\n",
        "from sklearn.svm import SVC\n",
        "import collections\n",
        "import matplotlib.patches as mpatches\n",
        "from sklearn.metrics import accuracy_score\n",
        "%matplotlib inline\n",
        "from sklearn.preprocessing import RobustScaler\n",
        "from sklearn.metrics import classification_report,roc_auc_score,roc_curve,r2_score,recall_score,confusion_matrix,precision_recall_curve\n",
        "from collections import Counter\n",
        "from sklearn.model_selection import StratifiedKFold,KFold,StratifiedShuffleSplit\n",
        "from nltk import word_tokenize\n",
        "from nltk.corpus import stopwords\n",
        "stop_words = stopwords.words('english')\n",
        "import matplotlib.pyplot as plt\n",
        "import matplotlib.patches as mpatches\n",
        "from sklearn.feature_extraction.text import CountVectorizer, TfidfVectorizer\n",
        "from sklearn.model_selection import train_test_split\n",
        "from sklearn.decomposition import PCA, TruncatedSVD,SparsePCA\n",
        "from sklearn.metrics import classification_report,confusion_matrix\n",
        "from nltk.tokenize import word_tokenize\n",
        "from collections import defaultdict\n",
        "from collections import Counter\n",
        "import nltk\n",
        "from nltk.corpus import stopwords\n",
        "import string"
      ]
    },
    {
      "cell_type": "code",
      "execution_count": 52,
      "metadata": {
        "id": "uERRe0kGhQA5"
      },
      "outputs": [],
      "source": [
        "dossier='../Maj2NLP/data/'\n",
        "df_questions=pd.read_csv(dossier+'questions_preprocessed.csv', encoding='ISO-8859-1')\n",
        "df_answers=pd.read_csv(dossier+'answers_preprocessed.csv', encoding='ISO-8859-1')"
      ]
    },
    {
      "cell_type": "code",
      "execution_count": 53,
      "metadata": {
        "id": "EA5AtLa-vvXN"
      },
      "outputs": [],
      "source": [
        "from nltk.stem import *\n",
        "def stem_traincorpus(data):\n",
        "    stemmer = PorterStemmer()\n",
        "    out_data=\"\"\n",
        "    for words in data:\n",
        "        out_data+= stemmer.stem(words)\n",
        "    return out_data\n",
        "def remove_stopwords(data):\n",
        "  text=data.lower()\n",
        "  text_tokens = word_tokenize(text)\n",
        "  tokens_without_sw = [word for word in text_tokens if not word in stop_words]\n",
        "  return (\" \").join(tokens_without_sw)\n",
        "df_questions[[\"Title\",\"Body\"]]=df_questions[[\"Title\",\"Body\"]].astype(str)\n",
        "df_answers[\"Body\"]=df_answers[\"Body\"].astype(str)\n",
        "df_questions[\"Title\"]=df_questions[\"Title\"].apply(remove_stopwords)\n",
        "df_questions[\"Body\"]=df_questions[\"Body\"].apply(remove_stopwords)\n",
        "df_answers[\"Body\"]=df_questions[\"Body\"].apply(remove_stopwords)\n",
        "df_questions[\"Title\"]=df_questions[\"Title\"].apply(stem_traincorpus)\n",
        "df_questions[\"Body\"]=df_questions[\"Body\"].apply(stem_traincorpus)\n",
        "df_answers[\"Body\"]=df_questions[\"Body\"].apply(stem_traincorpus)"
      ]
    },
    {
      "cell_type": "code",
      "execution_count": 54,
      "metadata": {
        "id": "4igYGjq_h6-p"
      },
      "outputs": [],
      "source": [
        "df=df_questions.merge(df_answers,left_on=\"Id\",right_on=\"ParentId\")\n",
        "df=df.rename(columns={\"Body_x\":\"Content\",\"Body_y\":\"Answers\"})\n",
        "df=df[[\"Title\",\"Content\",\"Answers\"]]"
      ]
    },
    {
      "cell_type": "code",
      "execution_count": null,
      "metadata": {
        "colab": {
          "base_uri": "https://localhost:8080/",
          "height": 424
        },
        "id": "X6bZvHDPkGOn",
        "outputId": "b621bfeb-296a-4df8-ba67-9a4694654cfb"
      },
      "outputs": [],
      "source": [
        "\n"
      ]
    },
    {
      "cell_type": "code",
      "execution_count": 55,
      "metadata": {
        "id": "1oQqatKKksYv"
      },
      "outputs": [],
      "source": [
        "df.to_csv(\"text_preprocessed_boubacar.csv\")"
      ]
    },
    {
      "cell_type": "code",
      "execution_count": null,
      "metadata": {
        "colab": {
          "base_uri": "https://localhost:8080/",
          "height": 424
        },
        "id": "n_fGNHwqlgtg",
        "outputId": "3bc36d9e-e71d-4e33-b1fd-6b64feaee2ba"
      },
      "outputs": [],
      "source": []
    }
  ],
  "metadata": {
    "colab": {
      "provenance": []
    },
    "kernelspec": {
      "display_name": "chatbot",
      "language": "python",
      "name": "python3"
    },
    "language_info": {
      "name": "python",
      "version": "3.7.15 (default, Nov 24 2022, 18:44:54) [MSC v.1916 64 bit (AMD64)]"
    },
    "vscode": {
      "interpreter": {
        "hash": "03041b0ab7cd1638a53e9defcca4554f53cc9626e5c5fef97f44058438290e8d"
      }
    }
  },
  "nbformat": 4,
  "nbformat_minor": 0
}
