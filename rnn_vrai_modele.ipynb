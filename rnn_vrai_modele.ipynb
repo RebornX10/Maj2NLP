{
  "cells": [
    {
      "cell_type": "code",
      "execution_count": 1,
      "metadata": {
        "id": "O7tzMnWr3yfe"
      },
      "outputs": [],
      "source": [
        "import pandas as pd\n",
        "from sklearn.model_selection import train_test_split\n",
        "from keras.preprocessing.text import Tokenizer\n",
        "from keras.utils import pad_sequences\n",
        "from sklearn.preprocessing import LabelEncoder\n",
        "from keras.models import Model\n",
        "from keras.layers import LSTM, Activation, Dense, Dropout, Input, Embedding\n",
        "from keras.optimizers import RMSprop\n",
        "from keras.preprocessing.text import Tokenizer\n",
        "from keras.utils import pad_sequences\n",
        "from keras.utils import to_categorical\n",
        "from keras.callbacks import EarlyStopping\n",
        "from sklearn.metrics import precision_recall_fscore_support\n",
        "import tensorflow as tf\n",
        "import numpy as np\n",
        "import re"
      ]
    },
    {
      "cell_type": "code",
      "execution_count": 2,
      "metadata": {
        "colab": {
          "base_uri": "https://localhost:8080/"
        },
        "id": "PAboikDhW1mt",
        "outputId": "cbeb5829-f0ac-4be8-b5f9-f286a5923735"
      },
      "outputs": [
        {
          "ename": "ModuleNotFoundError",
          "evalue": "No module named 'google.colab'",
          "output_type": "error",
          "traceback": [
            "\u001b[1;31m---------------------------------------------------------------------------\u001b[0m",
            "\u001b[1;31mModuleNotFoundError\u001b[0m                       Traceback (most recent call last)",
            "\u001b[1;32m~\\AppData\\Local\\Temp\\ipykernel_340\\451384764.py\u001b[0m in \u001b[0;36m<module>\u001b[1;34m\u001b[0m\n\u001b[1;32m----> 1\u001b[1;33m \u001b[1;32mfrom\u001b[0m \u001b[0mgoogle\u001b[0m\u001b[1;33m.\u001b[0m\u001b[0mcolab\u001b[0m \u001b[1;32mimport\u001b[0m \u001b[0mdrive\u001b[0m\u001b[1;33m\u001b[0m\u001b[1;33m\u001b[0m\u001b[0m\n\u001b[0m\u001b[0;32m      2\u001b[0m \u001b[0mdrive\u001b[0m\u001b[1;33m.\u001b[0m\u001b[0mmount\u001b[0m\u001b[1;33m(\u001b[0m\u001b[1;34m\"/content/drive\"\u001b[0m\u001b[1;33m)\u001b[0m\u001b[1;33m\u001b[0m\u001b[1;33m\u001b[0m\u001b[0m\n",
            "\u001b[1;31mModuleNotFoundError\u001b[0m: No module named 'google.colab'"
          ]
        }
      ],
      "source": [
        "from google.colab import drive\n",
        "drive.mount(\"/content/drive\")"
      ]
    },
    {
      "cell_type": "code",
      "execution_count": null,
      "metadata": {
        "id": "G_D16E0eegUw"
      },
      "outputs": [],
      "source": []
    },
    {
      "cell_type": "code",
      "execution_count": null,
      "metadata": {
        "id": "4TVmKeC-3yfi"
      },
      "outputs": [],
      "source": [
        "dossier='/content/drive/MyDrive/'\n",
        "df=pd.read_csv(dossier+'text_preprocessed_boubacar.csv')\n",
        "df=df.astype(str).sample(df.shape[0]//100)\n",
        "df_questions=df[\"Content\"]\n",
        "df_answers=df[\"Answers\"]"
      ]
    },
    {
      "cell_type": "code",
      "execution_count": null,
      "metadata": {
        "colab": {
          "base_uri": "https://localhost:8080/",
          "height": 424
        },
        "id": "u6Lft84-TPfC",
        "outputId": "ae6f0188-c981-4184-9c70-b48a69899323"
      },
      "outputs": [
        {
          "data": {
            "text/html": [
              "\n",
              "  <div id=\"df-39487fd5-b98c-42f8-b6a0-0dde0b0ef1e2\">\n",
              "    <div class=\"colab-df-container\">\n",
              "      <div>\n",
              "<style scoped>\n",
              "    .dataframe tbody tr th:only-of-type {\n",
              "        vertical-align: middle;\n",
              "    }\n",
              "\n",
              "    .dataframe tbody tr th {\n",
              "        vertical-align: top;\n",
              "    }\n",
              "\n",
              "    .dataframe thead th {\n",
              "        text-align: right;\n",
              "    }\n",
              "</style>\n",
              "<table border=\"1\" class=\"dataframe\">\n",
              "  <thead>\n",
              "    <tr style=\"text-align: right;\">\n",
              "      <th></th>\n",
              "      <th>Unnamed: 0</th>\n",
              "      <th>Title</th>\n",
              "      <th>Content</th>\n",
              "      <th>Answers</th>\n",
              "    </tr>\n",
              "  </thead>\n",
              "  <tbody>\n",
              "    <tr>\n",
              "      <th>228797</th>\n",
              "      <td>228797</td>\n",
              "      <td>pygame.sprite.group.add error</td>\n",
              "      <td>ok peice code lives_group = pygame.sprite.grou...</td>\n",
              "      <td>do not forget to call parent s constructor cla...</td>\n",
              "    </tr>\n",
              "    <tr>\n",
              "      <th>374319</th>\n",
              "      <td>374319</td>\n",
              "      <td>django static files working heroku</td>\n",
              "      <td>django application working well local server ....</td>\n",
              "      <td>this is my setting for static files to deploy ...</td>\n",
              "    </tr>\n",
              "    <tr>\n",
              "      <th>92393</th>\n",
              "      <td>92393</td>\n",
              "      <td>possible variants zip python</td>\n",
              "      <td>example , code looks like : = [ 1 , 2 ] b = [ ...</td>\n",
              "      <td>if you are interested only in the result then ...</td>\n",
              "    </tr>\n",
              "    <tr>\n",
              "      <th>199476</th>\n",
              "      <td>199476</td>\n",
              "      <td>following loop work ?</td>\n",
              "      <td>def escape_html ( ) : ( , ) ( ( `` &amp; '' , '' &amp;...</td>\n",
              "      <td>for i o in amp gt lt quot i and o are your loo...</td>\n",
              "    </tr>\n",
              "    <tr>\n",
              "      <th>155204</th>\n",
              "      <td>155204</td>\n",
              "      <td>include .pyd module files py2exe compilation</td>\n",
              "      <td>trying compile python script . executing exe g...</td>\n",
              "      <td>py exe let us you specify additional python mo...</td>\n",
              "    </tr>\n",
              "    <tr>\n",
              "      <th>...</th>\n",
              "      <td>...</td>\n",
              "      <td>...</td>\n",
              "      <td>...</td>\n",
              "      <td>...</td>\n",
              "    </tr>\n",
              "    <tr>\n",
              "      <th>168305</th>\n",
              "      <td>168305</td>\n",
              "      <td>minimax explanation `` dummies ''</td>\n",
              "      <td>quite new algorithms trying understand minimax...</td>\n",
              "      <td>the idea of minimax is that there in a two pla...</td>\n",
              "    </tr>\n",
              "    <tr>\n",
              "      <th>159426</th>\n",
              "      <td>159426</td>\n",
              "      <td>given list tuples , return new list first valu...</td>\n",
              "      <td>list tuples want new list consisting first val...</td>\n",
              "      <td>how about map lambda e e e for e in a</td>\n",
              "    </tr>\n",
              "    <tr>\n",
              "      <th>271249</th>\n",
              "      <td>271249</td>\n",
              "      <td>customize styles django clearablefileinput widget</td>\n",
              "      <td>use imagefield django model image upload facil...</td>\n",
              "      <td>just make your own input class and alter the r...</td>\n",
              "    </tr>\n",
              "    <tr>\n",
              "      <th>308610</th>\n",
              "      <td>308610</td>\n",
              "      <td>python : selenium phantomjs empty page source</td>\n",
              "      <td>trouble selenium phantomjs windows7 want get s...</td>\n",
              "      <td>by default phantomjs use sslv but many sites a...</td>\n",
              "    </tr>\n",
              "    <tr>\n",
              "      <th>287005</th>\n",
              "      <td>287005</td>\n",
              "      <td>sorting pandas large datasets</td>\n",
              "      <td>would like sort data given column , specifical...</td>\n",
              "      <td>blaze might be the tool for you with the abili...</td>\n",
              "    </tr>\n",
              "  </tbody>\n",
              "</table>\n",
              "<p>3034 rows × 4 columns</p>\n",
              "</div>\n",
              "      <button class=\"colab-df-convert\" onclick=\"convertToInteractive('df-39487fd5-b98c-42f8-b6a0-0dde0b0ef1e2')\"\n",
              "              title=\"Convert this dataframe to an interactive table.\"\n",
              "              style=\"display:none;\">\n",
              "        \n",
              "  <svg xmlns=\"http://www.w3.org/2000/svg\" height=\"24px\"viewBox=\"0 0 24 24\"\n",
              "       width=\"24px\">\n",
              "    <path d=\"M0 0h24v24H0V0z\" fill=\"none\"/>\n",
              "    <path d=\"M18.56 5.44l.94 2.06.94-2.06 2.06-.94-2.06-.94-.94-2.06-.94 2.06-2.06.94zm-11 1L8.5 8.5l.94-2.06 2.06-.94-2.06-.94L8.5 2.5l-.94 2.06-2.06.94zm10 10l.94 2.06.94-2.06 2.06-.94-2.06-.94-.94-2.06-.94 2.06-2.06.94z\"/><path d=\"M17.41 7.96l-1.37-1.37c-.4-.4-.92-.59-1.43-.59-.52 0-1.04.2-1.43.59L10.3 9.45l-7.72 7.72c-.78.78-.78 2.05 0 2.83L4 21.41c.39.39.9.59 1.41.59.51 0 1.02-.2 1.41-.59l7.78-7.78 2.81-2.81c.8-.78.8-2.07 0-2.86zM5.41 20L4 18.59l7.72-7.72 1.47 1.35L5.41 20z\"/>\n",
              "  </svg>\n",
              "      </button>\n",
              "      \n",
              "  <style>\n",
              "    .colab-df-container {\n",
              "      display:flex;\n",
              "      flex-wrap:wrap;\n",
              "      gap: 12px;\n",
              "    }\n",
              "\n",
              "    .colab-df-convert {\n",
              "      background-color: #E8F0FE;\n",
              "      border: none;\n",
              "      border-radius: 50%;\n",
              "      cursor: pointer;\n",
              "      display: none;\n",
              "      fill: #1967D2;\n",
              "      height: 32px;\n",
              "      padding: 0 0 0 0;\n",
              "      width: 32px;\n",
              "    }\n",
              "\n",
              "    .colab-df-convert:hover {\n",
              "      background-color: #E2EBFA;\n",
              "      box-shadow: 0px 1px 2px rgba(60, 64, 67, 0.3), 0px 1px 3px 1px rgba(60, 64, 67, 0.15);\n",
              "      fill: #174EA6;\n",
              "    }\n",
              "\n",
              "    [theme=dark] .colab-df-convert {\n",
              "      background-color: #3B4455;\n",
              "      fill: #D2E3FC;\n",
              "    }\n",
              "\n",
              "    [theme=dark] .colab-df-convert:hover {\n",
              "      background-color: #434B5C;\n",
              "      box-shadow: 0px 1px 3px 1px rgba(0, 0, 0, 0.15);\n",
              "      filter: drop-shadow(0px 1px 2px rgba(0, 0, 0, 0.3));\n",
              "      fill: #FFFFFF;\n",
              "    }\n",
              "  </style>\n",
              "\n",
              "      <script>\n",
              "        const buttonEl =\n",
              "          document.querySelector('#df-39487fd5-b98c-42f8-b6a0-0dde0b0ef1e2 button.colab-df-convert');\n",
              "        buttonEl.style.display =\n",
              "          google.colab.kernel.accessAllowed ? 'block' : 'none';\n",
              "\n",
              "        async function convertToInteractive(key) {\n",
              "          const element = document.querySelector('#df-39487fd5-b98c-42f8-b6a0-0dde0b0ef1e2');\n",
              "          const dataTable =\n",
              "            await google.colab.kernel.invokeFunction('convertToInteractive',\n",
              "                                                     [key], {});\n",
              "          if (!dataTable) return;\n",
              "\n",
              "          const docLinkHtml = 'Like what you see? Visit the ' +\n",
              "            '<a target=\"_blank\" href=https://colab.research.google.com/notebooks/data_table.ipynb>data table notebook</a>'\n",
              "            + ' to learn more about interactive tables.';\n",
              "          element.innerHTML = '';\n",
              "          dataTable['output_type'] = 'display_data';\n",
              "          await google.colab.output.renderOutput(dataTable, element);\n",
              "          const docLink = document.createElement('div');\n",
              "          docLink.innerHTML = docLinkHtml;\n",
              "          element.appendChild(docLink);\n",
              "        }\n",
              "      </script>\n",
              "    </div>\n",
              "  </div>\n",
              "  "
            ],
            "text/plain": [
              "       Unnamed: 0                                              Title  \\\n",
              "228797     228797                      pygame.sprite.group.add error   \n",
              "374319     374319                 django static files working heroku   \n",
              "92393       92393                       possible variants zip python   \n",
              "199476     199476                              following loop work ?   \n",
              "155204     155204       include .pyd module files py2exe compilation   \n",
              "...           ...                                                ...   \n",
              "168305     168305                  minimax explanation `` dummies ''   \n",
              "159426     159426  given list tuples , return new list first valu...   \n",
              "271249     271249  customize styles django clearablefileinput widget   \n",
              "308610     308610      python : selenium phantomjs empty page source   \n",
              "287005     287005                      sorting pandas large datasets   \n",
              "\n",
              "                                                  Content  \\\n",
              "228797  ok peice code lives_group = pygame.sprite.grou...   \n",
              "374319  django application working well local server ....   \n",
              "92393   example , code looks like : = [ 1 , 2 ] b = [ ...   \n",
              "199476  def escape_html ( ) : ( , ) ( ( `` & '' , '' &...   \n",
              "155204  trying compile python script . executing exe g...   \n",
              "...                                                   ...   \n",
              "168305  quite new algorithms trying understand minimax...   \n",
              "159426  list tuples want new list consisting first val...   \n",
              "271249  use imagefield django model image upload facil...   \n",
              "308610  trouble selenium phantomjs windows7 want get s...   \n",
              "287005  would like sort data given column , specifical...   \n",
              "\n",
              "                                                  Answers  \n",
              "228797  do not forget to call parent s constructor cla...  \n",
              "374319  this is my setting for static files to deploy ...  \n",
              "92393   if you are interested only in the result then ...  \n",
              "199476  for i o in amp gt lt quot i and o are your loo...  \n",
              "155204  py exe let us you specify additional python mo...  \n",
              "...                                                   ...  \n",
              "168305  the idea of minimax is that there in a two pla...  \n",
              "159426             how about map lambda e e e for e in a   \n",
              "271249  just make your own input class and alter the r...  \n",
              "308610  by default phantomjs use sslv but many sites a...  \n",
              "287005  blaze might be the tool for you with the abili...  \n",
              "\n",
              "[3034 rows x 4 columns]"
            ]
          },
          "execution_count": 4,
          "metadata": {},
          "output_type": "execute_result"
        }
      ],
      "source": [
        "df"
      ]
    },
    {
      "cell_type": "code",
      "execution_count": null,
      "metadata": {
        "colab": {
          "base_uri": "https://localhost:8080/",
          "height": 206
        },
        "id": "hJbKL3xI3yfj",
        "outputId": "17ef1ddb-d8a8-4eeb-defd-10ec8517b9e7"
      },
      "outputs": [
        {
          "data": {
            "text/html": [
              "\n",
              "  <div id=\"df-d81327a0-09e8-4130-af01-d672ad57946b\">\n",
              "    <div class=\"colab-df-container\">\n",
              "      <div>\n",
              "<style scoped>\n",
              "    .dataframe tbody tr th:only-of-type {\n",
              "        vertical-align: middle;\n",
              "    }\n",
              "\n",
              "    .dataframe tbody tr th {\n",
              "        vertical-align: top;\n",
              "    }\n",
              "\n",
              "    .dataframe thead th {\n",
              "        text-align: right;\n",
              "    }\n",
              "</style>\n",
              "<table border=\"1\" class=\"dataframe\">\n",
              "  <thead>\n",
              "    <tr style=\"text-align: right;\">\n",
              "      <th></th>\n",
              "      <th>Unnamed: 0</th>\n",
              "      <th>Title</th>\n",
              "      <th>Content</th>\n",
              "      <th>Answers</th>\n",
              "    </tr>\n",
              "  </thead>\n",
              "  <tbody>\n",
              "    <tr>\n",
              "      <th>228797</th>\n",
              "      <td>228797</td>\n",
              "      <td>pygame.sprite.group.add error</td>\n",
              "      <td>ok peice code lives_group = pygame.sprite.grou...</td>\n",
              "      <td>do not forget to call parent s constructor cla...</td>\n",
              "    </tr>\n",
              "    <tr>\n",
              "      <th>374319</th>\n",
              "      <td>374319</td>\n",
              "      <td>django static files working heroku</td>\n",
              "      <td>django application working well local server ....</td>\n",
              "      <td>this is my setting for static files to deploy ...</td>\n",
              "    </tr>\n",
              "    <tr>\n",
              "      <th>92393</th>\n",
              "      <td>92393</td>\n",
              "      <td>possible variants zip python</td>\n",
              "      <td>example , code looks like : = [ 1 , 2 ] b = [ ...</td>\n",
              "      <td>if you are interested only in the result then ...</td>\n",
              "    </tr>\n",
              "    <tr>\n",
              "      <th>199476</th>\n",
              "      <td>199476</td>\n",
              "      <td>following loop work ?</td>\n",
              "      <td>def escape_html ( ) : ( , ) ( ( `` &amp; '' , '' &amp;...</td>\n",
              "      <td>for i o in amp gt lt quot i and o are your loo...</td>\n",
              "    </tr>\n",
              "    <tr>\n",
              "      <th>155204</th>\n",
              "      <td>155204</td>\n",
              "      <td>include .pyd module files py2exe compilation</td>\n",
              "      <td>trying compile python script . executing exe g...</td>\n",
              "      <td>py exe let us you specify additional python mo...</td>\n",
              "    </tr>\n",
              "  </tbody>\n",
              "</table>\n",
              "</div>\n",
              "      <button class=\"colab-df-convert\" onclick=\"convertToInteractive('df-d81327a0-09e8-4130-af01-d672ad57946b')\"\n",
              "              title=\"Convert this dataframe to an interactive table.\"\n",
              "              style=\"display:none;\">\n",
              "        \n",
              "  <svg xmlns=\"http://www.w3.org/2000/svg\" height=\"24px\"viewBox=\"0 0 24 24\"\n",
              "       width=\"24px\">\n",
              "    <path d=\"M0 0h24v24H0V0z\" fill=\"none\"/>\n",
              "    <path d=\"M18.56 5.44l.94 2.06.94-2.06 2.06-.94-2.06-.94-.94-2.06-.94 2.06-2.06.94zm-11 1L8.5 8.5l.94-2.06 2.06-.94-2.06-.94L8.5 2.5l-.94 2.06-2.06.94zm10 10l.94 2.06.94-2.06 2.06-.94-2.06-.94-.94-2.06-.94 2.06-2.06.94z\"/><path d=\"M17.41 7.96l-1.37-1.37c-.4-.4-.92-.59-1.43-.59-.52 0-1.04.2-1.43.59L10.3 9.45l-7.72 7.72c-.78.78-.78 2.05 0 2.83L4 21.41c.39.39.9.59 1.41.59.51 0 1.02-.2 1.41-.59l7.78-7.78 2.81-2.81c.8-.78.8-2.07 0-2.86zM5.41 20L4 18.59l7.72-7.72 1.47 1.35L5.41 20z\"/>\n",
              "  </svg>\n",
              "      </button>\n",
              "      \n",
              "  <style>\n",
              "    .colab-df-container {\n",
              "      display:flex;\n",
              "      flex-wrap:wrap;\n",
              "      gap: 12px;\n",
              "    }\n",
              "\n",
              "    .colab-df-convert {\n",
              "      background-color: #E8F0FE;\n",
              "      border: none;\n",
              "      border-radius: 50%;\n",
              "      cursor: pointer;\n",
              "      display: none;\n",
              "      fill: #1967D2;\n",
              "      height: 32px;\n",
              "      padding: 0 0 0 0;\n",
              "      width: 32px;\n",
              "    }\n",
              "\n",
              "    .colab-df-convert:hover {\n",
              "      background-color: #E2EBFA;\n",
              "      box-shadow: 0px 1px 2px rgba(60, 64, 67, 0.3), 0px 1px 3px 1px rgba(60, 64, 67, 0.15);\n",
              "      fill: #174EA6;\n",
              "    }\n",
              "\n",
              "    [theme=dark] .colab-df-convert {\n",
              "      background-color: #3B4455;\n",
              "      fill: #D2E3FC;\n",
              "    }\n",
              "\n",
              "    [theme=dark] .colab-df-convert:hover {\n",
              "      background-color: #434B5C;\n",
              "      box-shadow: 0px 1px 3px 1px rgba(0, 0, 0, 0.15);\n",
              "      filter: drop-shadow(0px 1px 2px rgba(0, 0, 0, 0.3));\n",
              "      fill: #FFFFFF;\n",
              "    }\n",
              "  </style>\n",
              "\n",
              "      <script>\n",
              "        const buttonEl =\n",
              "          document.querySelector('#df-d81327a0-09e8-4130-af01-d672ad57946b button.colab-df-convert');\n",
              "        buttonEl.style.display =\n",
              "          google.colab.kernel.accessAllowed ? 'block' : 'none';\n",
              "\n",
              "        async function convertToInteractive(key) {\n",
              "          const element = document.querySelector('#df-d81327a0-09e8-4130-af01-d672ad57946b');\n",
              "          const dataTable =\n",
              "            await google.colab.kernel.invokeFunction('convertToInteractive',\n",
              "                                                     [key], {});\n",
              "          if (!dataTable) return;\n",
              "\n",
              "          const docLinkHtml = 'Like what you see? Visit the ' +\n",
              "            '<a target=\"_blank\" href=https://colab.research.google.com/notebooks/data_table.ipynb>data table notebook</a>'\n",
              "            + ' to learn more about interactive tables.';\n",
              "          element.innerHTML = '';\n",
              "          dataTable['output_type'] = 'display_data';\n",
              "          await google.colab.output.renderOutput(dataTable, element);\n",
              "          const docLink = document.createElement('div');\n",
              "          docLink.innerHTML = docLinkHtml;\n",
              "          element.appendChild(docLink);\n",
              "        }\n",
              "      </script>\n",
              "    </div>\n",
              "  </div>\n",
              "  "
            ],
            "text/plain": [
              "       Unnamed: 0                                         Title  \\\n",
              "228797     228797                 pygame.sprite.group.add error   \n",
              "374319     374319            django static files working heroku   \n",
              "92393       92393                  possible variants zip python   \n",
              "199476     199476                         following loop work ?   \n",
              "155204     155204  include .pyd module files py2exe compilation   \n",
              "\n",
              "                                                  Content  \\\n",
              "228797  ok peice code lives_group = pygame.sprite.grou...   \n",
              "374319  django application working well local server ....   \n",
              "92393   example , code looks like : = [ 1 , 2 ] b = [ ...   \n",
              "199476  def escape_html ( ) : ( , ) ( ( `` & '' , '' &...   \n",
              "155204  trying compile python script . executing exe g...   \n",
              "\n",
              "                                                  Answers  \n",
              "228797  do not forget to call parent s constructor cla...  \n",
              "374319  this is my setting for static files to deploy ...  \n",
              "92393   if you are interested only in the result then ...  \n",
              "199476  for i o in amp gt lt quot i and o are your loo...  \n",
              "155204  py exe let us you specify additional python mo...  "
            ]
          },
          "execution_count": 5,
          "metadata": {},
          "output_type": "execute_result"
        }
      ],
      "source": [
        "df.head()\n"
      ]
    },
    {
      "cell_type": "code",
      "execution_count": null,
      "metadata": {
        "id": "z4NWjWTK99W8"
      },
      "outputs": [],
      "source": []
    },
    {
      "cell_type": "code",
      "execution_count": null,
      "metadata": {
        "id": "nBaohEX93yfk"
      },
      "outputs": [],
      "source": [
        "questions_train, questions_test, answers_train, answers_test = train_test_split(df_questions,df_answers, test_size=0.2, random_state=42)"
      ]
    },
    {
      "cell_type": "code",
      "execution_count": null,
      "metadata": {
        "id": "rgDrwCysEg5s"
      },
      "outputs": [],
      "source": [
        "from keras.preprocessing.text import Tokenizer\n",
        "from keras.utils import pad_sequences\n",
        "from keras.layers import Embedding, LSTM, Dense\n",
        "from keras.models import Sequential\n",
        "\n",
        "# Créer un tokenizer pour convertir les phrases en séquences de mots\n",
        "tokenizer = tf.keras.preprocessing.text.Tokenizer()\n",
        "tokenizer.fit_on_texts(questions_train)\n",
        "\n",
        "# Convertir les phrases en séquences de mots\n",
        "questions_train = tokenizer.texts_to_sequences(questions_train)\n",
        "questions_test = tokenizer.texts_to_sequences(questions_test)\n",
        "\n",
        "\n",
        "# Créer un tokenizer pour convertir les phrases en séquences de mots\n",
        "tokenizer = tf.keras.preprocessing.text.Tokenizer()\n",
        "tokenizer.fit_on_texts(answers_train)\n",
        "\n",
        "# Convertir les phrases en séquences de mots\n",
        "answers_train = tokenizer.texts_to_sequences(answers_train)\n",
        "answers_test = tokenizer.texts_to_sequences(answers_test)\n",
        "\n",
        "max_length_questions = max([len(s) for s in questions_train])\n",
        "max_length_answers = max([len(s) for s in answers_train])\n",
        "max_length=max([max_length_questions, max_length_answers])\n",
        "# Pad les séquences pour qu'elles aient toutes la même longueur\n",
        "\n",
        "questions_train = tf.keras.preprocessing.sequence.pad_sequences(questions_train, maxlen=max_length)\n",
        "questions_test = tf.keras.preprocessing.sequence.pad_sequences(questions_test, maxlen=max_length)\n",
        "\n",
        "\n",
        "# Pad les séquences pour qu'elles aient toutes la même longueur\n",
        "\n",
        "answers_train = tf.keras.preprocessing.sequence.pad_sequences(answers_train, maxlen=max_length)\n",
        "answers_test = tf.keras.preprocessing.sequence.pad_sequences(answers_test, maxlen=max_length)\n",
        "\n",
        "# Créer un encoder-decoder avec un LSTM\n",
        "encoder_inputs = Input(shape=(max_length,1))\n",
        "encoder = Embedding(input_dim=len(tokenizer.word_index)+1, output_dim=64, input_length=max_length_questions)(encoder_inputs)\n",
        "encoder = LSTM(64, return_state=True, return_sequences=True)\n",
        "encoder_outputs, state_h, state_c = encoder(encoder_inputs)\n",
        "encoder_states = [state_h, state_c]\n",
        "\n",
        "decoder_inputs = Input(shape=(max_length,))\n",
        "decoder_embedding = Embedding(input_dim=len(tokenizer.word_index)+1, output_dim=64, input_length=max_length)(decoder_inputs)\n",
        "decoder_lstm = LSTM(64, return_sequences=True, return_state=True)\n",
        "decoder_outputs, _, _ = decoder_lstm(decoder_embedding, initial_state=encoder_states)\n",
        "decoder_dense = Dense(len(tokenizer.word_index)+1, activation='softmax')\n",
        "outputs = decoder_dense(decoder_outputs)\n"
      ]
    },
    {
      "cell_type": "code",
      "execution_count": null,
      "metadata": {
        "id": "iUBnLftDFvsW"
      },
      "outputs": [],
      "source": []
    },
    {
      "cell_type": "markdown",
      "metadata": {
        "id": "BeWV8pR65Gju"
      },
      "source": []
    },
    {
      "cell_type": "code",
      "execution_count": null,
      "metadata": {
        "colab": {
          "base_uri": "https://localhost:8080/"
        },
        "id": "5m_8hFUT3yfl",
        "outputId": "2e2f3e42-0794-4d0b-b224-3ceeff9718e3"
      },
      "outputs": [
        {
          "name": "stdout",
          "output_type": "stream",
          "text": [
            "Epoch 1/10\n",
            "2/2 [==============================] - 10s 2s/step - loss: 9.4781 - accuracy: 2.1310e-04 - val_loss: 9.4673 - val_accuracy: 0.9752\n",
            "Epoch 2/10\n",
            "2/2 [==============================] - 1s 996ms/step - loss: 9.4631 - accuracy: 0.9745 - val_loss: 9.4494 - val_accuracy: 0.9761\n",
            "Epoch 3/10\n",
            "2/2 [==============================] - 1s 998ms/step - loss: 9.4439 - accuracy: 0.9710 - val_loss: 9.4236 - val_accuracy: 0.9765\n",
            "Epoch 4/10\n",
            "2/2 [==============================] - 1s 1s/step - loss: 9.4147 - accuracy: 0.9713 - val_loss: 9.3804 - val_accuracy: 0.9766\n",
            "Epoch 5/10\n",
            "2/2 [==============================] - 1s 1s/step - loss: 9.3629 - accuracy: 0.9805 - val_loss: 9.2983 - val_accuracy: 0.9769\n",
            "Epoch 6/10\n",
            "2/2 [==============================] - 1s 985ms/step - loss: 9.2646 - accuracy: 0.9768 - val_loss: 9.1420 - val_accuracy: 0.9770\n",
            "Epoch 7/10\n",
            "2/2 [==============================] - 1s 986ms/step - loss: 9.0912 - accuracy: 0.9656 - val_loss: 8.9109 - val_accuracy: 0.9771\n",
            "Epoch 8/10\n",
            "2/2 [==============================] - 1s 997ms/step - loss: 8.8559 - accuracy: 0.9564 - val_loss: 8.6472 - val_accuracy: 0.9773\n",
            "Epoch 9/10\n",
            "2/2 [==============================] - 1s 1s/step - loss: 8.5752 - accuracy: 0.9833 - val_loss: 8.3752 - val_accuracy: 0.9773\n",
            "Epoch 10/10\n",
            "2/2 [==============================] - 1s 997ms/step - loss: 8.3101 - accuracy: 0.9725 - val_loss: 8.0971 - val_accuracy: 0.9773\n"
          ]
        },
        {
          "data": {
            "text/plain": [
              "<keras.callbacks.History at 0x7fba1dadad00>"
            ]
          },
          "execution_count": 8,
          "metadata": {},
          "output_type": "execute_result"
        }
      ],
      "source": [
        "\n",
        "# Compiler le modèle\n",
        "model = Model([encoder_inputs, decoder_inputs], [outputs])\n",
        "model.compile(optimizer='adam', loss='sparse_categorical_crossentropy', metrics=['accuracy'])\n",
        "# Entraîner le modèle\n",
        "model.fit([questions_train, questions_train], answers_train, epochs=10, batch_size=8, validation_split=0.2, steps_per_epoch=2, validation_steps=2)\n"
      ]
    },
    {
      "cell_type": "code",
      "execution_count": null,
      "metadata": {
        "id": "NEn7oQBoMg98"
      },
      "outputs": [],
      "source": []
    },
    {
      "cell_type": "code",
      "execution_count": null,
      "metadata": {
        "colab": {
          "base_uri": "https://localhost:8080/"
        },
        "id": "bNhGjEY33yfm",
        "outputId": "ab3b1ee0-265d-4575-fa94-5ff6383f17d1"
      },
      "outputs": [
        {
          "name": "stdout",
          "output_type": "stream",
          "text": [
            "Test accuracy: 0.9756694436073303\n"
          ]
        }
      ],
      "source": [
        "# Évaluer le modèle sur les données de test\n",
        "loss, acc = model.evaluate([questions_test, questions_test], answers_test, verbose=0, batch_size=8)\n",
        "print(\"Test accuracy:\", acc)"
      ]
    },
    {
      "cell_type": "code",
      "execution_count": null,
      "metadata": {
        "colab": {
          "base_uri": "https://localhost:8080/"
        },
        "id": "fE8DRpcK3yfn",
        "outputId": "15ab680a-b3c6-4062-a543-0cbe1ae8021b"
      },
      "outputs": [
        {
          "name": "stderr",
          "output_type": "stream",
          "text": [
            "[nltk_data] Downloading package stopwords to /root/nltk_data...\n",
            "[nltk_data]   Unzipping corpora/stopwords.zip.\n",
            "[nltk_data] Downloading package punkt to /root/nltk_data...\n",
            "[nltk_data]   Unzipping tokenizers/punkt.zip.\n"
          ]
        },
        {
          "data": {
            "text/plain": [
              "True"
            ]
          },
          "execution_count": 10,
          "metadata": {},
          "output_type": "execute_result"
        }
      ],
      "source": [
        "import nltk\n",
        "nltk.download('stopwords')\n",
        "nltk.download('punkt')\n",
        "\n"
      ]
    },
    {
      "cell_type": "code",
      "execution_count": null,
      "metadata": {
        "colab": {
          "base_uri": "https://localhost:8080/",
          "height": 17
        },
        "id": "pvkIACmZiga2",
        "outputId": "0bd0cd18-0177-4737-a202-d490d256007a"
      },
      "outputs": [
        {
          "data": {
            "text/html": [
              "        <script type=\"text/javascript\">\n",
              "        window.PlotlyConfig = {MathJaxConfig: 'local'};\n",
              "        if (window.MathJax) {MathJax.Hub.Config({SVG: {font: \"STIX-Web\"}});}\n",
              "        if (typeof require !== 'undefined') {\n",
              "        require.undef(\"plotly\");\n",
              "        requirejs.config({\n",
              "            paths: {\n",
              "                'plotly': ['https://cdn.plot.ly/plotly-2.8.3.min']\n",
              "            }\n",
              "        });\n",
              "        require(['plotly'], function(Plotly) {\n",
              "            window._Plotly = Plotly;\n",
              "        });\n",
              "        }\n",
              "        </script>\n",
              "        "
            ]
          },
          "metadata": {},
          "output_type": "display_data"
        }
      ],
      "source": [
        "import numpy as np\n",
        "import pandas as pd\n",
        "from sklearn import preprocessing,metrics,manifold\n",
        "from sklearn.manifold import TSNE\n",
        "from sklearn.model_selection import train_test_split,cross_val_score,GridSearchCV,cross_val_predict\n",
        "from imblearn.over_sampling import ADASYN,SMOTE\n",
        "from imblearn.under_sampling import NearMiss\n",
        "from sklearn.linear_model import LogisticRegression\n",
        "from sklearn.svm import SVC\n",
        "from sklearn.neighbors import KNeighborsClassifier\n",
        "from sklearn.tree import DecisionTreeClassifier\n",
        "from sklearn.ensemble import RandomForestClassifier\n",
        "from sklearn.discriminant_analysis import LinearDiscriminantAnalysis\n",
        "from sklearn.svm import SVC\n",
        "import collections\n",
        "import matplotlib.patches as mpatches\n",
        "from sklearn.metrics import accuracy_score\n",
        "%matplotlib inline\n",
        "from sklearn.preprocessing import RobustScaler\n",
        "import xgboost\n",
        "from imblearn.metrics import classification_report_imbalanced\n",
        "from sklearn.metrics import classification_report,roc_auc_score,roc_curve,r2_score,recall_score,confusion_matrix,precision_recall_curve\n",
        "from collections import Counter\n",
        "from sklearn.model_selection import StratifiedKFold,KFold,StratifiedShuffleSplit\n",
        "from nltk import word_tokenize\n",
        "from nltk.corpus import stopwords\n",
        "stop_words = stopwords.words('english')\n",
        "import matplotlib.pyplot as plt\n",
        "import matplotlib.patches as mpatches\n",
        "from sklearn.feature_extraction.text import CountVectorizer, TfidfVectorizer\n",
        "from sklearn.model_selection import train_test_split\n",
        "from sklearn.decomposition import PCA, TruncatedSVD,SparsePCA\n",
        "from sklearn.metrics import classification_report,confusion_matrix\n",
        "from nltk.tokenize import word_tokenize\n",
        "from collections import defaultdict\n",
        "from collections import Counter\n",
        "import seaborn as sns\n",
        "from wordcloud import WordCloud,STOPWORDS\n",
        "import nltk\n",
        "from nltk.corpus import stopwords\n",
        "import string\n",
        "from plotly import tools\n",
        "import plotly.offline as py\n",
        "py.init_notebook_mode(connected=True)\n",
        "import plotly.graph_objs as go"
      ]
    },
    {
      "cell_type": "code",
      "execution_count": null,
      "metadata": {
        "id": "pCoO7DooiANp"
      },
      "outputs": [],
      "source": [
        "from nltk.stem import *\n",
        "def stem_traincorpus(data):\n",
        "    stemmer = PorterStemmer()\n",
        "    out_data=\"\"\n",
        "    for words in data:\n",
        "        out_data+= stemmer.stem(words)\n",
        "    return out_data\n",
        "def remove_stopwords(data):\n",
        "  text=data.lower()\n",
        "  text_tokens = word_tokenize(text)\n",
        "  tokens_without_sw = [word for word in text_tokens if not word in stop_words]\n",
        "  return (\" \").join(tokens_without_sw)"
      ]
    },
    {
      "cell_type": "code",
      "execution_count": null,
      "metadata": {
        "id": "wLozOaqIiBOm"
      },
      "outputs": [],
      "source": []
    },
    {
      "cell_type": "code",
      "execution_count": null,
      "metadata": {
        "colab": {
          "base_uri": "https://localhost:8080/",
          "height": 624
        },
        "id": "JcTn7YjX3yfo",
        "outputId": "5cf7c389-a207-4c14-a5b1-83718a329fd9"
      },
      "outputs": [
        {
          "name": "stdout",
          "output_type": "stream",
          "text": [
            "1/1 [==============================] - 1s 853ms/step\n",
            "[[[8.6511209e-05 8.4118052e-05 8.4208732e-05 ... 7.6546989e-05\n",
            "   7.6107572e-05 7.5759548e-05]\n",
            "  [9.1995309e-05 8.7892586e-05 8.7928871e-05 ... 7.6746102e-05\n",
            "   7.6006596e-05 7.5522621e-05]\n",
            "  [9.8424272e-05 9.2195070e-05 9.2196002e-05 ... 7.6941666e-05\n",
            "   7.5871612e-05 7.5288757e-05]\n",
            "  ...\n",
            "  [3.1213902e-04 2.0819058e-04 2.1008721e-04 ... 8.0171114e-05\n",
            "   7.3313880e-05 7.0628084e-05]\n",
            "  [3.1213902e-04 2.0819058e-04 2.1008721e-04 ... 8.0171114e-05\n",
            "   7.3313880e-05 7.0628084e-05]\n",
            "  [3.1213902e-04 2.0819058e-04 2.1008721e-04 ... 8.0171114e-05\n",
            "   7.3313880e-05 7.0628084e-05]]]\n"
          ]
        },
        {
          "ename": "TypeError",
          "evalue": "ignored",
          "output_type": "error",
          "traceback": [
            "\u001b[0;31m---------------------------------------------------------------------------\u001b[0m",
            "\u001b[0;31mTypeError\u001b[0m                                 Traceback (most recent call last)",
            "\u001b[0;32m<ipython-input-13-f5a7d2eba6cf>\u001b[0m in \u001b[0;36m<module>\u001b[0;34m\u001b[0m\n\u001b[1;32m     17\u001b[0m \u001b[0mnew_text\u001b[0m\u001b[0;34m=\u001b[0m\u001b[0mpredict_text\u001b[0m\u001b[0;34m(\u001b[0m\u001b[0;34m\"print message screen\"\u001b[0m\u001b[0;34m,\u001b[0m\u001b[0mtokenizer\u001b[0m\u001b[0;34m,\u001b[0m\u001b[0mmodel\u001b[0m\u001b[0;34m,\u001b[0m\u001b[0mmax_length\u001b[0m\u001b[0;34m)\u001b[0m\u001b[0;34m\u001b[0m\u001b[0;34m\u001b[0m\u001b[0m\n\u001b[1;32m     18\u001b[0m \u001b[0mprint\u001b[0m\u001b[0;34m(\u001b[0m\u001b[0mnew_text\u001b[0m\u001b[0;34m)\u001b[0m\u001b[0;34m\u001b[0m\u001b[0;34m\u001b[0m\u001b[0m\n\u001b[0;32m---> 19\u001b[0;31m \u001b[0ma\u001b[0m\u001b[0;34m=\u001b[0m\u001b[0mtokenizer\u001b[0m\u001b[0;34m.\u001b[0m\u001b[0msequences_to_texts\u001b[0m\u001b[0;34m(\u001b[0m\u001b[0;34m[\u001b[0m\u001b[0mnew_text\u001b[0m\u001b[0;34m]\u001b[0m\u001b[0;34m)\u001b[0m\u001b[0;34m\u001b[0m\u001b[0;34m\u001b[0m\u001b[0m\n\u001b[0m\u001b[1;32m     20\u001b[0m \u001b[0;31m#tableau=np.array([questions_train, answers_train])\u001b[0m\u001b[0;34m\u001b[0m\u001b[0;34m\u001b[0m\u001b[0;34m\u001b[0m\u001b[0m\n\u001b[1;32m     21\u001b[0m \u001b[0;31m#tableau.reshape(1,tableau.shape[1],tableau.shape[2])\u001b[0m\u001b[0;34m\u001b[0m\u001b[0;34m\u001b[0m\u001b[0;34m\u001b[0m\u001b[0m\n",
            "\u001b[0;32m/usr/local/lib/python3.8/dist-packages/keras/preprocessing/text.py\u001b[0m in \u001b[0;36msequences_to_texts\u001b[0;34m(self, sequences)\u001b[0m\n\u001b[1;32m    393\u001b[0m         \u001b[0mA\u001b[0m \u001b[0mlist\u001b[0m \u001b[0mof\u001b[0m \u001b[0mtexts\u001b[0m \u001b[0;34m(\u001b[0m\u001b[0mstrings\u001b[0m\u001b[0;34m)\u001b[0m\u001b[0;34m\u001b[0m\u001b[0;34m\u001b[0m\u001b[0m\n\u001b[1;32m    394\u001b[0m     \"\"\"\n\u001b[0;32m--> 395\u001b[0;31m     \u001b[0;32mreturn\u001b[0m \u001b[0mlist\u001b[0m\u001b[0;34m(\u001b[0m\u001b[0mself\u001b[0m\u001b[0;34m.\u001b[0m\u001b[0msequences_to_texts_generator\u001b[0m\u001b[0;34m(\u001b[0m\u001b[0msequences\u001b[0m\u001b[0;34m)\u001b[0m\u001b[0;34m)\u001b[0m\u001b[0;34m\u001b[0m\u001b[0;34m\u001b[0m\u001b[0m\n\u001b[0m\u001b[1;32m    396\u001b[0m \u001b[0;34m\u001b[0m\u001b[0m\n\u001b[1;32m    397\u001b[0m   \u001b[0;32mdef\u001b[0m \u001b[0msequences_to_texts_generator\u001b[0m\u001b[0;34m(\u001b[0m\u001b[0mself\u001b[0m\u001b[0;34m,\u001b[0m \u001b[0msequences\u001b[0m\u001b[0;34m)\u001b[0m\u001b[0;34m:\u001b[0m\u001b[0;34m\u001b[0m\u001b[0;34m\u001b[0m\u001b[0m\n",
            "\u001b[0;32m/usr/local/lib/python3.8/dist-packages/keras/preprocessing/text.py\u001b[0m in \u001b[0;36msequences_to_texts_generator\u001b[0;34m(self, sequences)\u001b[0m\n\u001b[1;32m    415\u001b[0m       \u001b[0mvect\u001b[0m \u001b[0;34m=\u001b[0m \u001b[0;34m[\u001b[0m\u001b[0;34m]\u001b[0m\u001b[0;34m\u001b[0m\u001b[0;34m\u001b[0m\u001b[0m\n\u001b[1;32m    416\u001b[0m       \u001b[0;32mfor\u001b[0m \u001b[0mnum\u001b[0m \u001b[0;32min\u001b[0m \u001b[0mseq\u001b[0m\u001b[0;34m:\u001b[0m\u001b[0;34m\u001b[0m\u001b[0;34m\u001b[0m\u001b[0m\n\u001b[0;32m--> 417\u001b[0;31m         \u001b[0mword\u001b[0m \u001b[0;34m=\u001b[0m \u001b[0mself\u001b[0m\u001b[0;34m.\u001b[0m\u001b[0mindex_word\u001b[0m\u001b[0;34m.\u001b[0m\u001b[0mget\u001b[0m\u001b[0;34m(\u001b[0m\u001b[0mnum\u001b[0m\u001b[0;34m)\u001b[0m\u001b[0;34m\u001b[0m\u001b[0;34m\u001b[0m\u001b[0m\n\u001b[0m\u001b[1;32m    418\u001b[0m         \u001b[0;32mif\u001b[0m \u001b[0mword\u001b[0m \u001b[0;32mis\u001b[0m \u001b[0;32mnot\u001b[0m \u001b[0;32mNone\u001b[0m\u001b[0;34m:\u001b[0m\u001b[0;34m\u001b[0m\u001b[0;34m\u001b[0m\u001b[0m\n\u001b[1;32m    419\u001b[0m           \u001b[0;32mif\u001b[0m \u001b[0mnum_words\u001b[0m \u001b[0;32mand\u001b[0m \u001b[0mnum\u001b[0m \u001b[0;34m>=\u001b[0m \u001b[0mnum_words\u001b[0m\u001b[0;34m:\u001b[0m\u001b[0;34m\u001b[0m\u001b[0;34m\u001b[0m\u001b[0m\n",
            "\u001b[0;31mTypeError\u001b[0m: unhashable type: 'numpy.ndarray'"
          ]
        }
      ],
      "source": [
        "import keras\n",
        "#def prediction\n",
        "def predict_text(#define input text and model\n",
        "                 input_text, tokenizer, model, \n",
        "                 #define tokenizer maximum length of sequence\n",
        "                 maxlen_seq, padding = 'post', truncating = 'post'\n",
        "                 ):\n",
        "    \n",
        "    #prediction\n",
        "    text = str(input_text)\n",
        "    sequence = tokenizer.texts_to_sequences([text])\n",
        "    sequence = pad_sequences(sequence, maxlen = maxlen_seq)\n",
        "    predict = model.predict([sequence,sequence])\n",
        "    \n",
        "    return predict\n",
        "tokenizer = tf.keras.preprocessing.text.Tokenizer()\n",
        "new_text=predict_text(\"print message screen\",tokenizer,model,max_length)\n",
        "print(new_text)\n",
        "a=tokenizer.sequences_to_texts([new_text])\n",
        "#tableau=np.array([questions_train, answers_train])\n",
        "#tableau.reshape(1,tableau.shape[1],tableau.shape[2])"
      ]
    }
  ],
  "metadata": {
    "accelerator": "GPU",
    "colab": {
      "provenance": []
    },
    "gpuClass": "standard",
    "kernelspec": {
      "display_name": "chatbot",
      "language": "python",
      "name": "python3"
    },
    "language_info": {
      "codemirror_mode": {
        "name": "ipython",
        "version": 3
      },
      "file_extension": ".py",
      "mimetype": "text/x-python",
      "name": "python",
      "nbconvert_exporter": "python",
      "pygments_lexer": "ipython3",
      "version": "3.7.15"
    },
    "vscode": {
      "interpreter": {
        "hash": "03041b0ab7cd1638a53e9defcca4554f53cc9626e5c5fef97f44058438290e8d"
      }
    }
  },
  "nbformat": 4,
  "nbformat_minor": 0
}
