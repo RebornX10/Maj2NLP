{
  "cells": [
    {
      "cell_type": "code",
      "execution_count": 1,
      "metadata": {
        "id": "O7tzMnWr3yfe"
      },
      "outputs": [],
      "source": [
        "import pandas as pd\n",
        "from sklearn.model_selection import train_test_split\n",
        "from keras.preprocessing.text import Tokenizer\n",
        "from keras.utils import pad_sequences\n",
        "from sklearn.preprocessing import LabelEncoder\n",
        "from keras.models import Model\n",
        "from keras.layers import LSTM, Activation, Dense, Dropout, Input, Embedding\n",
        "from keras.optimizers import RMSprop\n",
        "from keras.preprocessing.text import Tokenizer\n",
        "from keras.utils import pad_sequences\n",
        "from keras.utils import to_categorical\n",
        "from keras.callbacks import EarlyStopping\n",
        "from sklearn.metrics import precision_recall_fscore_support\n",
        "import tensorflow as tf\n",
        "import numpy as np\n",
        "import re"
      ]
    },
    {
      "cell_type": "code",
      "source": [
        "from google.colab import drive\n",
        "drive.mount(\"/content/drive\")"
      ],
      "metadata": {
        "colab": {
          "base_uri": "https://localhost:8080/"
        },
        "id": "PAboikDhW1mt",
        "outputId": "80d0b05c-0d25-4899-ae3c-efcd39f6e7d2"
      },
      "execution_count": 2,
      "outputs": [
        {
          "output_type": "stream",
          "name": "stdout",
          "text": [
            "Drive already mounted at /content/drive; to attempt to forcibly remount, call drive.mount(\"/content/drive\", force_remount=True).\n"
          ]
        }
      ]
    },
    {
      "cell_type": "code",
      "source": [],
      "metadata": {
        "id": "G_D16E0eegUw"
      },
      "execution_count": 2,
      "outputs": []
    },
    {
      "cell_type": "code",
      "execution_count": 3,
      "metadata": {
        "id": "4TVmKeC-3yfi",
        "colab": {
          "base_uri": "https://localhost:8080/"
        },
        "outputId": "dc068bb6-32d1-4bb9-a722-6a5455d97571"
      },
      "outputs": [
        {
          "output_type": "stream",
          "name": "stderr",
          "text": [
            "/usr/local/lib/python3.8/dist-packages/IPython/core/interactiveshell.py:3326: DtypeWarning: Columns (3) have mixed types.Specify dtype option on import or set low_memory=False.\n",
            "  exec(code_obj, self.user_global_ns, self.user_ns)\n"
          ]
        }
      ],
      "source": [
        "dossier='/content/drive/MyDrive/'\n",
        "df=pd.read_csv(dossier+'text_preprocessed_boubacar.csv')\n",
        "df=df.astype(str).sample(df.shape[0]//150)\n",
        "df_questions=df[\"Title\"]\n",
        "df_answers=df[\"Answers\"]"
      ]
    },
    {
      "cell_type": "code",
      "source": [],
      "metadata": {
        "id": "u6Lft84-TPfC"
      },
      "execution_count": 3,
      "outputs": []
    },
    {
      "cell_type": "code",
      "execution_count": 4,
      "metadata": {
        "id": "hJbKL3xI3yfj",
        "colab": {
          "base_uri": "https://localhost:8080/",
          "height": 206
        },
        "outputId": "e58fe4e1-89d8-48e5-fd0e-0e9fe033df56"
      },
      "outputs": [
        {
          "output_type": "execute_result",
          "data": {
            "text/plain": [
              "       Unnamed: 0                                              Title  \\\n",
              "36116       36116  pythonic way open file given one argument stdin ?   \n",
              "22152       22152              run function every x minutes - python   \n",
              "83760       83760                     open ssh tunnel using python ?   \n",
              "300640     300640                 long dataframe apply row functions   \n",
              "129219     129219                               path variable python   \n",
              "\n",
              "                                                  Content  \\\n",
              "36116   trying write python script follows common unix...   \n",
              "22152   using python pygtk . interested running certai...   \n",
              "83760   trying connect remote mysql database using dja...   \n",
              "300640  read csv file time value columns get dataframe...   \n",
              "129219  change environmental path variable code python...   \n",
              "\n",
              "                                                  Answers  \n",
              "36116   known problem xml parsers often send http requ...  \n",
              "22152   linux server : 2.6.18 rhel5 gcc version : gcc ...  \n",
              "83760                                                 nan  \n",
              "300640                                                nan  \n",
              "129219  would like use aquamacs edit python files , ch...  "
            ],
            "text/html": [
              "\n",
              "  <div id=\"df-c92f9c35-4905-41d7-800a-a17b8ddb2446\">\n",
              "    <div class=\"colab-df-container\">\n",
              "      <div>\n",
              "<style scoped>\n",
              "    .dataframe tbody tr th:only-of-type {\n",
              "        vertical-align: middle;\n",
              "    }\n",
              "\n",
              "    .dataframe tbody tr th {\n",
              "        vertical-align: top;\n",
              "    }\n",
              "\n",
              "    .dataframe thead th {\n",
              "        text-align: right;\n",
              "    }\n",
              "</style>\n",
              "<table border=\"1\" class=\"dataframe\">\n",
              "  <thead>\n",
              "    <tr style=\"text-align: right;\">\n",
              "      <th></th>\n",
              "      <th>Unnamed: 0</th>\n",
              "      <th>Title</th>\n",
              "      <th>Content</th>\n",
              "      <th>Answers</th>\n",
              "    </tr>\n",
              "  </thead>\n",
              "  <tbody>\n",
              "    <tr>\n",
              "      <th>36116</th>\n",
              "      <td>36116</td>\n",
              "      <td>pythonic way open file given one argument stdin ?</td>\n",
              "      <td>trying write python script follows common unix...</td>\n",
              "      <td>known problem xml parsers often send http requ...</td>\n",
              "    </tr>\n",
              "    <tr>\n",
              "      <th>22152</th>\n",
              "      <td>22152</td>\n",
              "      <td>run function every x minutes - python</td>\n",
              "      <td>using python pygtk . interested running certai...</td>\n",
              "      <td>linux server : 2.6.18 rhel5 gcc version : gcc ...</td>\n",
              "    </tr>\n",
              "    <tr>\n",
              "      <th>83760</th>\n",
              "      <td>83760</td>\n",
              "      <td>open ssh tunnel using python ?</td>\n",
              "      <td>trying connect remote mysql database using dja...</td>\n",
              "      <td>nan</td>\n",
              "    </tr>\n",
              "    <tr>\n",
              "      <th>300640</th>\n",
              "      <td>300640</td>\n",
              "      <td>long dataframe apply row functions</td>\n",
              "      <td>read csv file time value columns get dataframe...</td>\n",
              "      <td>nan</td>\n",
              "    </tr>\n",
              "    <tr>\n",
              "      <th>129219</th>\n",
              "      <td>129219</td>\n",
              "      <td>path variable python</td>\n",
              "      <td>change environmental path variable code python...</td>\n",
              "      <td>would like use aquamacs edit python files , ch...</td>\n",
              "    </tr>\n",
              "  </tbody>\n",
              "</table>\n",
              "</div>\n",
              "      <button class=\"colab-df-convert\" onclick=\"convertToInteractive('df-c92f9c35-4905-41d7-800a-a17b8ddb2446')\"\n",
              "              title=\"Convert this dataframe to an interactive table.\"\n",
              "              style=\"display:none;\">\n",
              "        \n",
              "  <svg xmlns=\"http://www.w3.org/2000/svg\" height=\"24px\"viewBox=\"0 0 24 24\"\n",
              "       width=\"24px\">\n",
              "    <path d=\"M0 0h24v24H0V0z\" fill=\"none\"/>\n",
              "    <path d=\"M18.56 5.44l.94 2.06.94-2.06 2.06-.94-2.06-.94-.94-2.06-.94 2.06-2.06.94zm-11 1L8.5 8.5l.94-2.06 2.06-.94-2.06-.94L8.5 2.5l-.94 2.06-2.06.94zm10 10l.94 2.06.94-2.06 2.06-.94-2.06-.94-.94-2.06-.94 2.06-2.06.94z\"/><path d=\"M17.41 7.96l-1.37-1.37c-.4-.4-.92-.59-1.43-.59-.52 0-1.04.2-1.43.59L10.3 9.45l-7.72 7.72c-.78.78-.78 2.05 0 2.83L4 21.41c.39.39.9.59 1.41.59.51 0 1.02-.2 1.41-.59l7.78-7.78 2.81-2.81c.8-.78.8-2.07 0-2.86zM5.41 20L4 18.59l7.72-7.72 1.47 1.35L5.41 20z\"/>\n",
              "  </svg>\n",
              "      </button>\n",
              "      \n",
              "  <style>\n",
              "    .colab-df-container {\n",
              "      display:flex;\n",
              "      flex-wrap:wrap;\n",
              "      gap: 12px;\n",
              "    }\n",
              "\n",
              "    .colab-df-convert {\n",
              "      background-color: #E8F0FE;\n",
              "      border: none;\n",
              "      border-radius: 50%;\n",
              "      cursor: pointer;\n",
              "      display: none;\n",
              "      fill: #1967D2;\n",
              "      height: 32px;\n",
              "      padding: 0 0 0 0;\n",
              "      width: 32px;\n",
              "    }\n",
              "\n",
              "    .colab-df-convert:hover {\n",
              "      background-color: #E2EBFA;\n",
              "      box-shadow: 0px 1px 2px rgba(60, 64, 67, 0.3), 0px 1px 3px 1px rgba(60, 64, 67, 0.15);\n",
              "      fill: #174EA6;\n",
              "    }\n",
              "\n",
              "    [theme=dark] .colab-df-convert {\n",
              "      background-color: #3B4455;\n",
              "      fill: #D2E3FC;\n",
              "    }\n",
              "\n",
              "    [theme=dark] .colab-df-convert:hover {\n",
              "      background-color: #434B5C;\n",
              "      box-shadow: 0px 1px 3px 1px rgba(0, 0, 0, 0.15);\n",
              "      filter: drop-shadow(0px 1px 2px rgba(0, 0, 0, 0.3));\n",
              "      fill: #FFFFFF;\n",
              "    }\n",
              "  </style>\n",
              "\n",
              "      <script>\n",
              "        const buttonEl =\n",
              "          document.querySelector('#df-c92f9c35-4905-41d7-800a-a17b8ddb2446 button.colab-df-convert');\n",
              "        buttonEl.style.display =\n",
              "          google.colab.kernel.accessAllowed ? 'block' : 'none';\n",
              "\n",
              "        async function convertToInteractive(key) {\n",
              "          const element = document.querySelector('#df-c92f9c35-4905-41d7-800a-a17b8ddb2446');\n",
              "          const dataTable =\n",
              "            await google.colab.kernel.invokeFunction('convertToInteractive',\n",
              "                                                     [key], {});\n",
              "          if (!dataTable) return;\n",
              "\n",
              "          const docLinkHtml = 'Like what you see? Visit the ' +\n",
              "            '<a target=\"_blank\" href=https://colab.research.google.com/notebooks/data_table.ipynb>data table notebook</a>'\n",
              "            + ' to learn more about interactive tables.';\n",
              "          element.innerHTML = '';\n",
              "          dataTable['output_type'] = 'display_data';\n",
              "          await google.colab.output.renderOutput(dataTable, element);\n",
              "          const docLink = document.createElement('div');\n",
              "          docLink.innerHTML = docLinkHtml;\n",
              "          element.appendChild(docLink);\n",
              "        }\n",
              "      </script>\n",
              "    </div>\n",
              "  </div>\n",
              "  "
            ]
          },
          "metadata": {},
          "execution_count": 4
        }
      ],
      "source": [
        "df.head()\n"
      ]
    },
    {
      "cell_type": "code",
      "execution_count": 4,
      "metadata": {
        "id": "z4NWjWTK99W8"
      },
      "outputs": [],
      "source": []
    },
    {
      "cell_type": "code",
      "execution_count": 5,
      "metadata": {
        "id": "nBaohEX93yfk"
      },
      "outputs": [],
      "source": [
        "questions_train, questions_test, answers_train, answers_test = train_test_split(df_questions,df_answers, test_size=0.2, random_state=42)"
      ]
    },
    {
      "cell_type": "code",
      "execution_count": 6,
      "metadata": {
        "id": "rgDrwCysEg5s"
      },
      "outputs": [],
      "source": [
        "from keras.preprocessing.text import Tokenizer\n",
        "from keras.utils import pad_sequences\n",
        "from keras.layers import Embedding, LSTM, Dense\n",
        "from keras.models import Sequential\n",
        "\n",
        "# Créer un tokenizer pour convertir les phrases en séquences de mots\n",
        "tokenizer = tf.keras.preprocessing.text.Tokenizer()\n",
        "tokenizer.fit_on_texts(questions_train)\n",
        "\n",
        "# Convertir les phrases en séquences de mots\n",
        "questions_train = tokenizer.texts_to_sequences(questions_train)\n",
        "questions_test = tokenizer.texts_to_sequences(questions_test)\n",
        "\n",
        "\n",
        "# Créer un tokenizer pour convertir les phrases en séquences de mots\n",
        "tokenizer = tf.keras.preprocessing.text.Tokenizer()\n",
        "tokenizer.fit_on_texts(answers_train)\n",
        "\n",
        "# Convertir les phrases en séquences de mots\n",
        "answers_train = tokenizer.texts_to_sequences(answers_train)\n",
        "answers_test = tokenizer.texts_to_sequences(answers_test)\n",
        "\n",
        "max_length_questions = max([len(s) for s in questions_train])\n",
        "max_length_answers = max([len(s) for s in answers_train])\n",
        "max_length=max([max_length_questions, max_length_answers])\n",
        "# Pad les séquences pour qu'elles aient toutes la même longueur\n",
        "\n",
        "questions_train = tf.keras.preprocessing.sequence.pad_sequences(questions_train, maxlen=max_length)\n",
        "questions_test = tf.keras.preprocessing.sequence.pad_sequences(questions_test, maxlen=max_length)\n",
        "\n",
        "\n",
        "# Pad les séquences pour qu'elles aient toutes la même longueur\n",
        "\n",
        "answers_train = tf.keras.preprocessing.sequence.pad_sequences(answers_train, maxlen=max_length)\n",
        "answers_test = tf.keras.preprocessing.sequence.pad_sequences(answers_test, maxlen=max_length)\n",
        "\n",
        "# Créer un encoder-decoder avec un LSTM\n",
        "encoder_inputs = Input(shape=(max_length,1))\n",
        "encoder = Embedding(input_dim=len(tokenizer.word_index)+1, output_dim=64, input_length=max_length_questions)(encoder_inputs)\n",
        "encoder = LSTM(64, return_state=True, return_sequences=True)\n",
        "encoder_outputs, state_h, state_c = encoder(encoder_inputs)\n",
        "encoder_states = [state_h, state_c]\n",
        "\n",
        "decoder_inputs = Input(shape=(max_length,))\n",
        "decoder_embedding = Embedding(input_dim=len(tokenizer.word_index)+1, output_dim=64, input_length=max_length)(decoder_inputs)\n",
        "decoder_lstm = LSTM(64, return_sequences=True, return_state=True)\n",
        "decoder_outputs, _, _ = decoder_lstm(decoder_embedding, initial_state=encoder_states)\n",
        "decoder_dense = Dense(len(tokenizer.word_index)+1, activation='softmax')\n",
        "outputs = decoder_dense(decoder_outputs)\n"
      ]
    },
    {
      "cell_type": "code",
      "source": [],
      "metadata": {
        "id": "iUBnLftDFvsW"
      },
      "execution_count": 6,
      "outputs": []
    },
    {
      "cell_type": "markdown",
      "source": [],
      "metadata": {
        "id": "BeWV8pR65Gju"
      }
    },
    {
      "cell_type": "code",
      "execution_count": 7,
      "metadata": {
        "id": "5m_8hFUT3yfl",
        "colab": {
          "base_uri": "https://localhost:8080/"
        },
        "outputId": "1571540d-26d9-4942-d530-c4586626e25a"
      },
      "outputs": [
        {
          "output_type": "stream",
          "name": "stdout",
          "text": [
            "Epoch 1/10\n",
            "2/2 [==============================] - 7s 2s/step - loss: 9.7009 - accuracy: 9.5566e-05 - val_loss: 9.6912 - val_accuracy: 4.7783e-05\n",
            "Epoch 2/10\n",
            "2/2 [==============================] - 1s 743ms/step - loss: 9.6878 - accuracy: 0.4927 - val_loss: 9.6781 - val_accuracy: 0.9670\n",
            "Epoch 3/10\n",
            "2/2 [==============================] - 1s 770ms/step - loss: 9.6742 - accuracy: 0.9772 - val_loss: 9.6621 - val_accuracy: 0.9694\n",
            "Epoch 4/10\n",
            "2/2 [==============================] - 1s 754ms/step - loss: 9.6567 - accuracy: 0.9734 - val_loss: 9.6379 - val_accuracy: 0.9701\n",
            "Epoch 5/10\n",
            "2/2 [==============================] - 1s 766ms/step - loss: 9.6278 - accuracy: 0.9861 - val_loss: 9.5951 - val_accuracy: 0.9706\n",
            "Epoch 6/10\n",
            "2/2 [==============================] - 1s 1s/step - loss: 9.5790 - accuracy: 0.9524 - val_loss: 9.5098 - val_accuracy: 0.9709\n",
            "Epoch 7/10\n",
            "2/2 [==============================] - 1s 1s/step - loss: 9.4704 - accuracy: 0.9863 - val_loss: 9.3442 - val_accuracy: 0.9710\n",
            "Epoch 8/10\n",
            "2/2 [==============================] - 2s 1s/step - loss: 9.2918 - accuracy: 0.9614 - val_loss: 9.1162 - val_accuracy: 0.9712\n",
            "Epoch 9/10\n",
            "2/2 [==============================] - 2s 1s/step - loss: 9.0608 - accuracy: 0.9631 - val_loss: 8.8733 - val_accuracy: 0.9713\n",
            "Epoch 10/10\n",
            "2/2 [==============================] - 2s 1s/step - loss: 8.8112 - accuracy: 0.9705 - val_loss: 8.6174 - val_accuracy: 0.9713\n"
          ]
        },
        {
          "output_type": "execute_result",
          "data": {
            "text/plain": [
              "<keras.callbacks.History at 0x7f0fd39f98e0>"
            ]
          },
          "metadata": {},
          "execution_count": 7
        }
      ],
      "source": [
        "\n",
        "# Compiler le modèle\n",
        "model = Model([encoder_inputs, decoder_inputs], [outputs])\n",
        "model.compile(optimizer='adam', loss='sparse_categorical_crossentropy', metrics=['accuracy'])\n",
        "# Entraîner le modèle\n",
        "model.fit([questions_train, questions_train], answers_train, epochs=10, batch_size=8, validation_data=([questions_test, answers_test], answers_test), steps_per_epoch=2, validation_steps=2)\n"
      ]
    },
    {
      "cell_type": "code",
      "source": [],
      "metadata": {
        "id": "NEn7oQBoMg98"
      },
      "execution_count": 7,
      "outputs": []
    },
    {
      "cell_type": "code",
      "execution_count": 11,
      "metadata": {
        "id": "bNhGjEY33yfm",
        "colab": {
          "base_uri": "https://localhost:8080/"
        },
        "outputId": "a0399d2c-c1d4-460e-cb16-b4f8fed20248"
      },
      "outputs": [
        {
          "output_type": "stream",
          "name": "stdout",
          "text": [
            "Test accuracy: 0.9744859933853149\n"
          ]
        }
      ],
      "source": [
        "# Évaluer le modèle sur les données de test\n",
        "loss, acc = model.evaluate([questions_test, questions_test], answers_test, verbose=0, batch_size=8)\n",
        "print(\"Test accuracy:\", acc)"
      ]
    },
    {
      "cell_type": "code",
      "execution_count": 8,
      "metadata": {
        "id": "fE8DRpcK3yfn"
      },
      "outputs": [],
      "source": [
        "\n",
        "pred = tokenizer.sequences_to_matrix(text, mode='binary')\n",
        "model.predict(pred)"
      ]
    },
    {
      "cell_type": "code",
      "execution_count": 9,
      "metadata": {
        "id": "JcTn7YjX3yfo"
      },
      "outputs": [],
      "source": [
        "\n",
        "#tableau=np.array([questions_train, answers_train])\n",
        "#tableau.reshape(1,tableau.shape[1],tableau.shape[2])"
      ]
    }
  ],
  "metadata": {
    "accelerator": "GPU",
    "colab": {
      "provenance": []
    },
    "gpuClass": "standard",
    "kernelspec": {
      "display_name": "chatbot",
      "language": "python",
      "name": "python3"
    },
    "language_info": {
      "codemirror_mode": {
        "name": "ipython",
        "version": 3
      },
      "file_extension": ".py",
      "mimetype": "text/x-python",
      "name": "python",
      "nbconvert_exporter": "python",
      "pygments_lexer": "ipython3",
      "version": "3.7.15"
    },
    "vscode": {
      "interpreter": {
        "hash": "03041b0ab7cd1638a53e9defcca4554f53cc9626e5c5fef97f44058438290e8d"
      }
    }
  },
  "nbformat": 4,
  "nbformat_minor": 0
}