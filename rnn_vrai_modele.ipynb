{
  "cells": [
    {
      "cell_type": "code",
      "execution_count": 154,
      "metadata": {
        "id": "O7tzMnWr3yfe"
      },
      "outputs": [],
      "source": [
        "import pandas as pd\n",
        "from sklearn.model_selection import train_test_split\n",
        "from keras.preprocessing.text import Tokenizer\n",
        "from keras.utils import pad_sequences\n",
        "from sklearn.preprocessing import LabelEncoder\n",
        "from keras.models import Model\n",
        "from keras.layers import LSTM, Activation, Dense, Dropout, Input, Embedding\n",
        "from keras.optimizers import RMSprop\n",
        "from keras.preprocessing.text import Tokenizer\n",
        "from keras.utils import to_categorical\n",
        "from keras.callbacks import EarlyStopping\n",
        "from sklearn.metrics import precision_recall_fscore_support\n",
        "import tensorflow as tf\n",
        "import numpy as np\n",
        "import re"
      ]
    },
    {
      "cell_type": "code",
      "execution_count": 155,
      "metadata": {
        "colab": {
          "base_uri": "https://localhost:8080/"
        },
        "id": "PAboikDhW1mt",
        "outputId": "26d623a9-b012-4a5e-90d1-89247c5c06ea"
      },
      "outputs": [
        {
          "output_type": "stream",
          "name": "stdout",
          "text": [
            "Drive already mounted at /content/drive; to attempt to forcibly remount, call drive.mount(\"/content/drive\", force_remount=True).\n"
          ]
        }
      ],
      "source": [
        "from google.colab import drive\n",
        "drive.mount(\"/content/drive\")"
      ]
    },
    {
      "cell_type": "code",
      "execution_count": 155,
      "metadata": {
        "id": "G_D16E0eegUw"
      },
      "outputs": [],
      "source": []
    },
    {
      "cell_type": "code",
      "execution_count": 156,
      "metadata": {
        "id": "4TVmKeC-3yfi"
      },
      "outputs": [],
      "source": [
        "dossier='/content/drive/MyDrive/'\n",
        "df=pd.read_csv(dossier+'text_preprocessed_boubacar.csv')\n",
        "df=df.astype(str).sample(df.shape[0]//100)\n",
        "df_questions=df[\"Content\"]\n",
        "df_answers=df[\"Answers\"]"
      ]
    },
    {
      "cell_type": "code",
      "execution_count": 157,
      "metadata": {
        "colab": {
          "base_uri": "https://localhost:8080/",
          "height": 424
        },
        "id": "u6Lft84-TPfC",
        "outputId": "0da5f835-ca83-4d80-f128-0461a95e04db"
      },
      "outputs": [
        {
          "output_type": "execute_result",
          "data": {
            "text/plain": [
              "       Unnamed: 0                                              Title  \\\n",
              "163281     163281  hello world java : understanding concept versu...   \n",
              "291104     291104                          slice list ordered chunks   \n",
              "183442     183442  smtplib sends blank message message contain ce...   \n",
              "415947     415947             count boolean grouped spark data frame   \n",
              "226655     226655                    intellij idea 12 : get pep8 fly   \n",
              "...           ...                                                ...   \n",
              "80146       80146  interactively validating entry widget content ...   \n",
              "18340       18340                host use making udp socket python ?   \n",
              "86232       86232                  comparing two dictionaries python   \n",
              "223384     223384  python pil struggles uncompressed 16-bit tiff ...   \n",
              "421301     421301    sending python function boost.function argument   \n",
              "\n",
              "                                                  Content  \\\n",
              "163281  trying learn java hello world program already ...   \n",
              "291104  dictionary like : item_count_per_section = { 1...   \n",
              "183442  current script allows send emails fine , chara...   \n",
              "415947  want count many records true column grouped sp...   \n",
              "226655  seems already supported pycharm 2.7 get intell...   \n",
              "...                                                   ...   \n",
              "80146   recommended technique interactively validating...   \n",
              "18340   want ro receive data sent udp packet vpn . wro...   \n",
              "86232   two dictionaries , simplification , take two :...   \n",
              "223384  system mac os x v10.8.2 . several 2560x500 unc...   \n",
              "421301  things getting complicated world trying mesh p...   \n",
              "\n",
              "                                                  Answers  \n",
              "163281  as you know python uses duck typing it does no...  \n",
              "291104  dict comprehension of itertools isliced iter o...  \n",
              "183442  i do not think it is about the colon but it is...  \n",
              "415947  probably the simplest solution is a plain cast...  \n",
              "226655     available in idea with the new python plug in   \n",
              "...                                                   ...  \n",
              "80146   the correct answer is use the validatecommand ...  \n",
              "18340                                      use sock bind   \n",
              "86232   what you want to do is simply x y what you do ...  \n",
              "223384  try pillow the friendly pil fork they have som...  \n",
              "421301  when a function that has been exposed through ...  \n",
              "\n",
              "[4551 rows x 4 columns]"
            ],
            "text/html": [
              "\n",
              "  <div id=\"df-a683b46c-1928-4cd4-bd33-1ecf83856535\">\n",
              "    <div class=\"colab-df-container\">\n",
              "      <div>\n",
              "<style scoped>\n",
              "    .dataframe tbody tr th:only-of-type {\n",
              "        vertical-align: middle;\n",
              "    }\n",
              "\n",
              "    .dataframe tbody tr th {\n",
              "        vertical-align: top;\n",
              "    }\n",
              "\n",
              "    .dataframe thead th {\n",
              "        text-align: right;\n",
              "    }\n",
              "</style>\n",
              "<table border=\"1\" class=\"dataframe\">\n",
              "  <thead>\n",
              "    <tr style=\"text-align: right;\">\n",
              "      <th></th>\n",
              "      <th>Unnamed: 0</th>\n",
              "      <th>Title</th>\n",
              "      <th>Content</th>\n",
              "      <th>Answers</th>\n",
              "    </tr>\n",
              "  </thead>\n",
              "  <tbody>\n",
              "    <tr>\n",
              "      <th>163281</th>\n",
              "      <td>163281</td>\n",
              "      <td>hello world java : understanding concept versu...</td>\n",
              "      <td>trying learn java hello world program already ...</td>\n",
              "      <td>as you know python uses duck typing it does no...</td>\n",
              "    </tr>\n",
              "    <tr>\n",
              "      <th>291104</th>\n",
              "      <td>291104</td>\n",
              "      <td>slice list ordered chunks</td>\n",
              "      <td>dictionary like : item_count_per_section = { 1...</td>\n",
              "      <td>dict comprehension of itertools isliced iter o...</td>\n",
              "    </tr>\n",
              "    <tr>\n",
              "      <th>183442</th>\n",
              "      <td>183442</td>\n",
              "      <td>smtplib sends blank message message contain ce...</td>\n",
              "      <td>current script allows send emails fine , chara...</td>\n",
              "      <td>i do not think it is about the colon but it is...</td>\n",
              "    </tr>\n",
              "    <tr>\n",
              "      <th>415947</th>\n",
              "      <td>415947</td>\n",
              "      <td>count boolean grouped spark data frame</td>\n",
              "      <td>want count many records true column grouped sp...</td>\n",
              "      <td>probably the simplest solution is a plain cast...</td>\n",
              "    </tr>\n",
              "    <tr>\n",
              "      <th>226655</th>\n",
              "      <td>226655</td>\n",
              "      <td>intellij idea 12 : get pep8 fly</td>\n",
              "      <td>seems already supported pycharm 2.7 get intell...</td>\n",
              "      <td>available in idea with the new python plug in</td>\n",
              "    </tr>\n",
              "    <tr>\n",
              "      <th>...</th>\n",
              "      <td>...</td>\n",
              "      <td>...</td>\n",
              "      <td>...</td>\n",
              "      <td>...</td>\n",
              "    </tr>\n",
              "    <tr>\n",
              "      <th>80146</th>\n",
              "      <td>80146</td>\n",
              "      <td>interactively validating entry widget content ...</td>\n",
              "      <td>recommended technique interactively validating...</td>\n",
              "      <td>the correct answer is use the validatecommand ...</td>\n",
              "    </tr>\n",
              "    <tr>\n",
              "      <th>18340</th>\n",
              "      <td>18340</td>\n",
              "      <td>host use making udp socket python ?</td>\n",
              "      <td>want ro receive data sent udp packet vpn . wro...</td>\n",
              "      <td>use sock bind</td>\n",
              "    </tr>\n",
              "    <tr>\n",
              "      <th>86232</th>\n",
              "      <td>86232</td>\n",
              "      <td>comparing two dictionaries python</td>\n",
              "      <td>two dictionaries , simplification , take two :...</td>\n",
              "      <td>what you want to do is simply x y what you do ...</td>\n",
              "    </tr>\n",
              "    <tr>\n",
              "      <th>223384</th>\n",
              "      <td>223384</td>\n",
              "      <td>python pil struggles uncompressed 16-bit tiff ...</td>\n",
              "      <td>system mac os x v10.8.2 . several 2560x500 unc...</td>\n",
              "      <td>try pillow the friendly pil fork they have som...</td>\n",
              "    </tr>\n",
              "    <tr>\n",
              "      <th>421301</th>\n",
              "      <td>421301</td>\n",
              "      <td>sending python function boost.function argument</td>\n",
              "      <td>things getting complicated world trying mesh p...</td>\n",
              "      <td>when a function that has been exposed through ...</td>\n",
              "    </tr>\n",
              "  </tbody>\n",
              "</table>\n",
              "<p>4551 rows × 4 columns</p>\n",
              "</div>\n",
              "      <button class=\"colab-df-convert\" onclick=\"convertToInteractive('df-a683b46c-1928-4cd4-bd33-1ecf83856535')\"\n",
              "              title=\"Convert this dataframe to an interactive table.\"\n",
              "              style=\"display:none;\">\n",
              "        \n",
              "  <svg xmlns=\"http://www.w3.org/2000/svg\" height=\"24px\"viewBox=\"0 0 24 24\"\n",
              "       width=\"24px\">\n",
              "    <path d=\"M0 0h24v24H0V0z\" fill=\"none\"/>\n",
              "    <path d=\"M18.56 5.44l.94 2.06.94-2.06 2.06-.94-2.06-.94-.94-2.06-.94 2.06-2.06.94zm-11 1L8.5 8.5l.94-2.06 2.06-.94-2.06-.94L8.5 2.5l-.94 2.06-2.06.94zm10 10l.94 2.06.94-2.06 2.06-.94-2.06-.94-.94-2.06-.94 2.06-2.06.94z\"/><path d=\"M17.41 7.96l-1.37-1.37c-.4-.4-.92-.59-1.43-.59-.52 0-1.04.2-1.43.59L10.3 9.45l-7.72 7.72c-.78.78-.78 2.05 0 2.83L4 21.41c.39.39.9.59 1.41.59.51 0 1.02-.2 1.41-.59l7.78-7.78 2.81-2.81c.8-.78.8-2.07 0-2.86zM5.41 20L4 18.59l7.72-7.72 1.47 1.35L5.41 20z\"/>\n",
              "  </svg>\n",
              "      </button>\n",
              "      \n",
              "  <style>\n",
              "    .colab-df-container {\n",
              "      display:flex;\n",
              "      flex-wrap:wrap;\n",
              "      gap: 12px;\n",
              "    }\n",
              "\n",
              "    .colab-df-convert {\n",
              "      background-color: #E8F0FE;\n",
              "      border: none;\n",
              "      border-radius: 50%;\n",
              "      cursor: pointer;\n",
              "      display: none;\n",
              "      fill: #1967D2;\n",
              "      height: 32px;\n",
              "      padding: 0 0 0 0;\n",
              "      width: 32px;\n",
              "    }\n",
              "\n",
              "    .colab-df-convert:hover {\n",
              "      background-color: #E2EBFA;\n",
              "      box-shadow: 0px 1px 2px rgba(60, 64, 67, 0.3), 0px 1px 3px 1px rgba(60, 64, 67, 0.15);\n",
              "      fill: #174EA6;\n",
              "    }\n",
              "\n",
              "    [theme=dark] .colab-df-convert {\n",
              "      background-color: #3B4455;\n",
              "      fill: #D2E3FC;\n",
              "    }\n",
              "\n",
              "    [theme=dark] .colab-df-convert:hover {\n",
              "      background-color: #434B5C;\n",
              "      box-shadow: 0px 1px 3px 1px rgba(0, 0, 0, 0.15);\n",
              "      filter: drop-shadow(0px 1px 2px rgba(0, 0, 0, 0.3));\n",
              "      fill: #FFFFFF;\n",
              "    }\n",
              "  </style>\n",
              "\n",
              "      <script>\n",
              "        const buttonEl =\n",
              "          document.querySelector('#df-a683b46c-1928-4cd4-bd33-1ecf83856535 button.colab-df-convert');\n",
              "        buttonEl.style.display =\n",
              "          google.colab.kernel.accessAllowed ? 'block' : 'none';\n",
              "\n",
              "        async function convertToInteractive(key) {\n",
              "          const element = document.querySelector('#df-a683b46c-1928-4cd4-bd33-1ecf83856535');\n",
              "          const dataTable =\n",
              "            await google.colab.kernel.invokeFunction('convertToInteractive',\n",
              "                                                     [key], {});\n",
              "          if (!dataTable) return;\n",
              "\n",
              "          const docLinkHtml = 'Like what you see? Visit the ' +\n",
              "            '<a target=\"_blank\" href=https://colab.research.google.com/notebooks/data_table.ipynb>data table notebook</a>'\n",
              "            + ' to learn more about interactive tables.';\n",
              "          element.innerHTML = '';\n",
              "          dataTable['output_type'] = 'display_data';\n",
              "          await google.colab.output.renderOutput(dataTable, element);\n",
              "          const docLink = document.createElement('div');\n",
              "          docLink.innerHTML = docLinkHtml;\n",
              "          element.appendChild(docLink);\n",
              "        }\n",
              "      </script>\n",
              "    </div>\n",
              "  </div>\n",
              "  "
            ]
          },
          "metadata": {},
          "execution_count": 157
        }
      ],
      "source": [
        "df"
      ]
    },
    {
      "cell_type": "code",
      "execution_count": 158,
      "metadata": {
        "colab": {
          "base_uri": "https://localhost:8080/",
          "height": 206
        },
        "id": "hJbKL3xI3yfj",
        "outputId": "fee2d3f2-6fd5-46ae-a417-b8e3990d0283"
      },
      "outputs": [
        {
          "output_type": "execute_result",
          "data": {
            "text/plain": [
              "       Unnamed: 0                                              Title  \\\n",
              "163281     163281  hello world java : understanding concept versu...   \n",
              "291104     291104                          slice list ordered chunks   \n",
              "183442     183442  smtplib sends blank message message contain ce...   \n",
              "415947     415947             count boolean grouped spark data frame   \n",
              "226655     226655                    intellij idea 12 : get pep8 fly   \n",
              "\n",
              "                                                  Content  \\\n",
              "163281  trying learn java hello world program already ...   \n",
              "291104  dictionary like : item_count_per_section = { 1...   \n",
              "183442  current script allows send emails fine , chara...   \n",
              "415947  want count many records true column grouped sp...   \n",
              "226655  seems already supported pycharm 2.7 get intell...   \n",
              "\n",
              "                                                  Answers  \n",
              "163281  as you know python uses duck typing it does no...  \n",
              "291104  dict comprehension of itertools isliced iter o...  \n",
              "183442  i do not think it is about the colon but it is...  \n",
              "415947  probably the simplest solution is a plain cast...  \n",
              "226655     available in idea with the new python plug in   "
            ],
            "text/html": [
              "\n",
              "  <div id=\"df-1d77d192-74d5-4075-b61c-562fd1377dfc\">\n",
              "    <div class=\"colab-df-container\">\n",
              "      <div>\n",
              "<style scoped>\n",
              "    .dataframe tbody tr th:only-of-type {\n",
              "        vertical-align: middle;\n",
              "    }\n",
              "\n",
              "    .dataframe tbody tr th {\n",
              "        vertical-align: top;\n",
              "    }\n",
              "\n",
              "    .dataframe thead th {\n",
              "        text-align: right;\n",
              "    }\n",
              "</style>\n",
              "<table border=\"1\" class=\"dataframe\">\n",
              "  <thead>\n",
              "    <tr style=\"text-align: right;\">\n",
              "      <th></th>\n",
              "      <th>Unnamed: 0</th>\n",
              "      <th>Title</th>\n",
              "      <th>Content</th>\n",
              "      <th>Answers</th>\n",
              "    </tr>\n",
              "  </thead>\n",
              "  <tbody>\n",
              "    <tr>\n",
              "      <th>163281</th>\n",
              "      <td>163281</td>\n",
              "      <td>hello world java : understanding concept versu...</td>\n",
              "      <td>trying learn java hello world program already ...</td>\n",
              "      <td>as you know python uses duck typing it does no...</td>\n",
              "    </tr>\n",
              "    <tr>\n",
              "      <th>291104</th>\n",
              "      <td>291104</td>\n",
              "      <td>slice list ordered chunks</td>\n",
              "      <td>dictionary like : item_count_per_section = { 1...</td>\n",
              "      <td>dict comprehension of itertools isliced iter o...</td>\n",
              "    </tr>\n",
              "    <tr>\n",
              "      <th>183442</th>\n",
              "      <td>183442</td>\n",
              "      <td>smtplib sends blank message message contain ce...</td>\n",
              "      <td>current script allows send emails fine , chara...</td>\n",
              "      <td>i do not think it is about the colon but it is...</td>\n",
              "    </tr>\n",
              "    <tr>\n",
              "      <th>415947</th>\n",
              "      <td>415947</td>\n",
              "      <td>count boolean grouped spark data frame</td>\n",
              "      <td>want count many records true column grouped sp...</td>\n",
              "      <td>probably the simplest solution is a plain cast...</td>\n",
              "    </tr>\n",
              "    <tr>\n",
              "      <th>226655</th>\n",
              "      <td>226655</td>\n",
              "      <td>intellij idea 12 : get pep8 fly</td>\n",
              "      <td>seems already supported pycharm 2.7 get intell...</td>\n",
              "      <td>available in idea with the new python plug in</td>\n",
              "    </tr>\n",
              "  </tbody>\n",
              "</table>\n",
              "</div>\n",
              "      <button class=\"colab-df-convert\" onclick=\"convertToInteractive('df-1d77d192-74d5-4075-b61c-562fd1377dfc')\"\n",
              "              title=\"Convert this dataframe to an interactive table.\"\n",
              "              style=\"display:none;\">\n",
              "        \n",
              "  <svg xmlns=\"http://www.w3.org/2000/svg\" height=\"24px\"viewBox=\"0 0 24 24\"\n",
              "       width=\"24px\">\n",
              "    <path d=\"M0 0h24v24H0V0z\" fill=\"none\"/>\n",
              "    <path d=\"M18.56 5.44l.94 2.06.94-2.06 2.06-.94-2.06-.94-.94-2.06-.94 2.06-2.06.94zm-11 1L8.5 8.5l.94-2.06 2.06-.94-2.06-.94L8.5 2.5l-.94 2.06-2.06.94zm10 10l.94 2.06.94-2.06 2.06-.94-2.06-.94-.94-2.06-.94 2.06-2.06.94z\"/><path d=\"M17.41 7.96l-1.37-1.37c-.4-.4-.92-.59-1.43-.59-.52 0-1.04.2-1.43.59L10.3 9.45l-7.72 7.72c-.78.78-.78 2.05 0 2.83L4 21.41c.39.39.9.59 1.41.59.51 0 1.02-.2 1.41-.59l7.78-7.78 2.81-2.81c.8-.78.8-2.07 0-2.86zM5.41 20L4 18.59l7.72-7.72 1.47 1.35L5.41 20z\"/>\n",
              "  </svg>\n",
              "      </button>\n",
              "      \n",
              "  <style>\n",
              "    .colab-df-container {\n",
              "      display:flex;\n",
              "      flex-wrap:wrap;\n",
              "      gap: 12px;\n",
              "    }\n",
              "\n",
              "    .colab-df-convert {\n",
              "      background-color: #E8F0FE;\n",
              "      border: none;\n",
              "      border-radius: 50%;\n",
              "      cursor: pointer;\n",
              "      display: none;\n",
              "      fill: #1967D2;\n",
              "      height: 32px;\n",
              "      padding: 0 0 0 0;\n",
              "      width: 32px;\n",
              "    }\n",
              "\n",
              "    .colab-df-convert:hover {\n",
              "      background-color: #E2EBFA;\n",
              "      box-shadow: 0px 1px 2px rgba(60, 64, 67, 0.3), 0px 1px 3px 1px rgba(60, 64, 67, 0.15);\n",
              "      fill: #174EA6;\n",
              "    }\n",
              "\n",
              "    [theme=dark] .colab-df-convert {\n",
              "      background-color: #3B4455;\n",
              "      fill: #D2E3FC;\n",
              "    }\n",
              "\n",
              "    [theme=dark] .colab-df-convert:hover {\n",
              "      background-color: #434B5C;\n",
              "      box-shadow: 0px 1px 3px 1px rgba(0, 0, 0, 0.15);\n",
              "      filter: drop-shadow(0px 1px 2px rgba(0, 0, 0, 0.3));\n",
              "      fill: #FFFFFF;\n",
              "    }\n",
              "  </style>\n",
              "\n",
              "      <script>\n",
              "        const buttonEl =\n",
              "          document.querySelector('#df-1d77d192-74d5-4075-b61c-562fd1377dfc button.colab-df-convert');\n",
              "        buttonEl.style.display =\n",
              "          google.colab.kernel.accessAllowed ? 'block' : 'none';\n",
              "\n",
              "        async function convertToInteractive(key) {\n",
              "          const element = document.querySelector('#df-1d77d192-74d5-4075-b61c-562fd1377dfc');\n",
              "          const dataTable =\n",
              "            await google.colab.kernel.invokeFunction('convertToInteractive',\n",
              "                                                     [key], {});\n",
              "          if (!dataTable) return;\n",
              "\n",
              "          const docLinkHtml = 'Like what you see? Visit the ' +\n",
              "            '<a target=\"_blank\" href=https://colab.research.google.com/notebooks/data_table.ipynb>data table notebook</a>'\n",
              "            + ' to learn more about interactive tables.';\n",
              "          element.innerHTML = '';\n",
              "          dataTable['output_type'] = 'display_data';\n",
              "          await google.colab.output.renderOutput(dataTable, element);\n",
              "          const docLink = document.createElement('div');\n",
              "          docLink.innerHTML = docLinkHtml;\n",
              "          element.appendChild(docLink);\n",
              "        }\n",
              "      </script>\n",
              "    </div>\n",
              "  </div>\n",
              "  "
            ]
          },
          "metadata": {},
          "execution_count": 158
        }
      ],
      "source": [
        "df.head()\n"
      ]
    },
    {
      "cell_type": "code",
      "execution_count": 158,
      "metadata": {
        "id": "z4NWjWTK99W8"
      },
      "outputs": [],
      "source": []
    },
    {
      "cell_type": "code",
      "execution_count": 159,
      "metadata": {
        "id": "nBaohEX93yfk"
      },
      "outputs": [],
      "source": [
        "questions_train, questions_test, answers_train, answers_test = train_test_split(df_questions,df_answers, test_size=0.2, random_state=42)"
      ]
    },
    {
      "cell_type": "code",
      "execution_count": 160,
      "metadata": {
        "id": "rgDrwCysEg5s"
      },
      "outputs": [],
      "source": [
        "from keras.preprocessing.text import Tokenizer\n",
        "\n",
        "from keras.layers import Embedding, LSTM, Dense\n",
        "from keras.models import Sequential\n",
        "\n",
        "# Créer un tokenizer pour convertir les phrases en séquences de mots\n",
        "tokenizer = tf.keras.preprocessing.text.Tokenizer()\n",
        "tokenizer.fit_on_texts(questions_train)\n",
        "\n",
        "# Convertir les phrases en séquences de mots\n",
        "questions_train = tokenizer.texts_to_sequences(questions_train)\n",
        "questions_test = tokenizer.texts_to_sequences(questions_test)\n",
        "\n",
        "\n",
        "# Créer un tokenizer pour convertir les phrases en séquences de mots\n",
        "tokenizer = tf.keras.preprocessing.text.Tokenizer()\n",
        "tokenizer.fit_on_texts(answers_train)\n",
        "\n",
        "# Convertir les phrases en séquences de mots\n",
        "answers_train = tokenizer.texts_to_sequences(answers_train)\n",
        "answers_test = tokenizer.texts_to_sequences(answers_test)\n",
        "\n",
        "max_length_questions = max([len(s) for s in questions_train])\n",
        "max_length_answers = max([len(s) for s in answers_train])\n",
        "max_length=max([max_length_questions, max_length_answers])\n",
        "# Pad les séquences pour qu'elles aient toutes la même longueur\n",
        "\n",
        "questions_train = pad_sequences(questions_train, maxlen=max_length)\n",
        "questions_test = pad_sequences(questions_test, maxlen=max_length)\n",
        "\n",
        "\n",
        "# Pad les séquences pour qu'elles aient toutes la même longueur\n",
        "\n",
        "answers_train = pad_sequences(answers_train, maxlen=max_length)\n",
        "answers_test = pad_sequences(answers_test, maxlen=max_length)\n",
        "\n",
        "\n",
        "# Créer un encoder-decoder avec un LSTM\n",
        "encoder_inputs = Input(shape=(max_length,1))\n",
        "encoder = Embedding(input_dim=max_length, output_dim=64, input_length=max_length)(encoder_inputs)\n",
        "encoder = LSTM(64, return_state=True, return_sequences=True)\n",
        "encoder_outputs, state_h, state_c = encoder(encoder_inputs)\n",
        "encoder_states = [state_h, state_c]\n",
        "\n",
        "decoder_inputs = Input(shape=(max_length,))\n",
        "decoder_embedding = Embedding(input_dim=max_length, output_dim=64, input_length=max_length)(decoder_inputs)\n",
        "decoder_lstm = LSTM(64, return_sequences=True, return_state=True)\n",
        "decoder_outputs, _, _ = decoder_lstm(decoder_embedding, initial_state=encoder_states)\n",
        "decoder_dense = Dense(max_length, activation='softmax')\n",
        "outputs = decoder_dense(decoder_outputs)\n"
      ]
    },
    {
      "cell_type": "code",
      "execution_count": 160,
      "metadata": {
        "id": "iUBnLftDFvsW"
      },
      "outputs": [],
      "source": []
    },
    {
      "cell_type": "markdown",
      "metadata": {
        "id": "BeWV8pR65Gju"
      },
      "source": []
    },
    {
      "cell_type": "code",
      "execution_count": 168,
      "metadata": {
        "colab": {
          "base_uri": "https://localhost:8080/"
        },
        "id": "5m_8hFUT3yfl",
        "outputId": "83befe07-fbfb-44ad-95e5-9de4262dde6e"
      },
      "outputs": [
        {
          "output_type": "stream",
          "name": "stdout",
          "text": [
            "Epoch 1/8\n",
            "1/1 [==============================] - 3s 3s/step - loss: nan - accuracy: 0.9623 - val_loss: nan - val_accuracy: 0.9791\n",
            "Epoch 2/8\n",
            "1/1 [==============================] - 0s 444ms/step - loss: nan - accuracy: 0.9794 - val_loss: nan - val_accuracy: 0.9791\n",
            "Epoch 3/8\n",
            "1/1 [==============================] - 1s 579ms/step - loss: nan - accuracy: 0.9730 - val_loss: nan - val_accuracy: 0.9791\n",
            "Epoch 4/8\n",
            "1/1 [==============================] - 0s 439ms/step - loss: nan - accuracy: 0.9800 - val_loss: nan - val_accuracy: 0.9791\n",
            "Epoch 5/8\n",
            "1/1 [==============================] - 0s 436ms/step - loss: nan - accuracy: 0.9813 - val_loss: nan - val_accuracy: 0.9791\n",
            "Epoch 6/8\n",
            "1/1 [==============================] - 0s 436ms/step - loss: nan - accuracy: 0.9794 - val_loss: nan - val_accuracy: 0.9791\n",
            "Epoch 7/8\n",
            "1/1 [==============================] - 1s 593ms/step - loss: nan - accuracy: 0.9705 - val_loss: nan - val_accuracy: 0.9791\n",
            "Epoch 8/8\n",
            "1/1 [==============================] - 1s 581ms/step - loss: nan - accuracy: 0.9861 - val_loss: nan - val_accuracy: 0.9791\n"
          ]
        },
        {
          "output_type": "execute_result",
          "data": {
            "text/plain": [
              "<keras.callbacks.History at 0x7fdca3463f70>"
            ]
          },
          "metadata": {},
          "execution_count": 168
        }
      ],
      "source": [
        "\n",
        "# Compiler le modèle\n",
        "model = Model([encoder_inputs, decoder_inputs], [outputs])\n",
        "model.compile(optimizer='adam', loss='sparse_categorical_crossentropy', metrics=['accuracy'])\n",
        "# Entraîner le modèle\n",
        "model.fit([questions_train, questions_train], answers_train, epochs=8, batch_size=8, validation_split=0.2, steps_per_epoch=1, validation_steps=1)\n"
      ]
    },
    {
      "cell_type": "code",
      "execution_count": 161,
      "metadata": {
        "id": "NEn7oQBoMg98"
      },
      "outputs": [],
      "source": []
    },
    {
      "cell_type": "code",
      "execution_count": 169,
      "metadata": {
        "id": "bNhGjEY33yfm",
        "colab": {
          "base_uri": "https://localhost:8080/"
        },
        "outputId": "add4a38b-21d8-41f3-b4d7-2e9785d9c676"
      },
      "outputs": [
        {
          "output_type": "stream",
          "name": "stdout",
          "text": [
            "Test accuracy: 0.9728500843048096\n"
          ]
        }
      ],
      "source": [
        "# Évaluer le modèle sur les données de test\n",
        "loss, acc = model.evaluate([questions_test, questions_test], answers_test, verbose=0, batch_size=8)\n",
        "print(\"Test accuracy:\", acc)"
      ]
    },
    {
      "cell_type": "code",
      "execution_count": null,
      "metadata": {
        "id": "fE8DRpcK3yfn"
      },
      "outputs": [],
      "source": [
        "import nltk\n",
        "nltk.download('stopwords')\n",
        "nltk.download('punkt')\n",
        "\n"
      ]
    },
    {
      "cell_type": "code",
      "execution_count": null,
      "metadata": {
        "id": "pvkIACmZiga2"
      },
      "outputs": [],
      "source": [
        "import numpy as np\n",
        "import pandas as pd\n",
        "from sklearn import preprocessing,metrics,manifold\n",
        "from sklearn.manifold import TSNE\n",
        "from sklearn.model_selection import train_test_split,cross_val_score,GridSearchCV,cross_val_predict\n",
        "from imblearn.over_sampling import ADASYN,SMOTE\n",
        "from imblearn.under_sampling import NearMiss\n",
        "from sklearn.linear_model import LogisticRegression\n",
        "from sklearn.svm import SVC\n",
        "from sklearn.neighbors import KNeighborsClassifier\n",
        "from sklearn.tree import DecisionTreeClassifier\n",
        "from sklearn.ensemble import RandomForestClassifier\n",
        "from sklearn.discriminant_analysis import LinearDiscriminantAnalysis\n",
        "from sklearn.svm import SVC\n",
        "import collections\n",
        "import matplotlib.patches as mpatches\n",
        "from sklearn.metrics import accuracy_score\n",
        "%matplotlib inline\n",
        "from sklearn.preprocessing import RobustScaler\n",
        "import xgboost\n",
        "from imblearn.metrics import classification_report_imbalanced\n",
        "from sklearn.metrics import classification_report,roc_auc_score,roc_curve,r2_score,recall_score,confusion_matrix,precision_recall_curve\n",
        "from collections import Counter\n",
        "from sklearn.model_selection import StratifiedKFold,KFold,StratifiedShuffleSplit\n",
        "from nltk import word_tokenize\n",
        "from nltk.corpus import stopwords\n",
        "stop_words = stopwords.words('english')\n",
        "import matplotlib.pyplot as plt\n",
        "import matplotlib.patches as mpatches\n",
        "from sklearn.feature_extraction.text import CountVectorizer, TfidfVectorizer\n",
        "from sklearn.model_selection import train_test_split\n",
        "from sklearn.decomposition import PCA, TruncatedSVD,SparsePCA\n",
        "from sklearn.metrics import classification_report,confusion_matrix\n",
        "from nltk.tokenize import word_tokenize\n",
        "from collections import defaultdict\n",
        "from collections import Counter\n",
        "import seaborn as sns\n",
        "from wordcloud import WordCloud,STOPWORDS\n",
        "import nltk\n",
        "from nltk.corpus import stopwords\n",
        "import string\n",
        "from plotly import tools\n",
        "import plotly.offline as py\n",
        "py.init_notebook_mode(connected=True)\n",
        "import plotly.graph_objs as go"
      ]
    },
    {
      "cell_type": "code",
      "execution_count": null,
      "metadata": {
        "id": "pCoO7DooiANp"
      },
      "outputs": [],
      "source": [
        "from nltk.stem import *\n",
        "def stem_traincorpus(data):\n",
        "    stemmer = PorterStemmer()\n",
        "    out_data=\"\"\n",
        "    for words in data:\n",
        "        out_data+= stemmer.stem(words)\n",
        "    return out_data\n",
        "def remove_stopwords(data):\n",
        "  text=data.lower()\n",
        "  text_tokens = word_tokenize(text)\n",
        "  tokens_without_sw = [word for word in text_tokens if not word in stop_words]\n",
        "  return (\" \").join(tokens_without_sw)"
      ]
    },
    {
      "cell_type": "code",
      "execution_count": 162,
      "metadata": {
        "id": "wLozOaqIiBOm"
      },
      "outputs": [],
      "source": []
    },
    {
      "cell_type": "code",
      "execution_count": 163,
      "metadata": {
        "id": "JcTn7YjX3yfo",
        "colab": {
          "base_uri": "https://localhost:8080/"
        },
        "outputId": "b6a8e7d9-6a8e-4aeb-a65f-9efebd8c29b6"
      },
      "outputs": [
        {
          "output_type": "stream",
          "name": "stdout",
          "text": [
            "1/1 [==============================] - 1s 831ms/step\n",
            "['']\n"
          ]
        }
      ],
      "source": [
        "import keras\n",
        "#def prediction\n",
        "text=df.iloc[-2][\"Content\"]\n",
        "tokenizer = tf.keras.preprocessing.text.Tokenizer()\n",
        "tokenizer.fit_on_texts([text])\n",
        "sequence = tokenizer.texts_to_sequences([text])\n",
        "sequence = pad_sequences(sequence, maxlen = max_length)\n",
        "predict = model.predict([sequence,sequence]) \n",
        "sequence_returned=np.argmax(predict,axis=1)\n",
        "tokenizer = tf.keras.preprocessing.text.Tokenizer()\n",
        "tokenizer.fit_on_sequences(sequence_returned)\n",
        "new_text=tokenizer.sequences_to_texts(sequence_returned)\n",
        "print(new_text)\n",
        "#tableau=np.array([questions_train, answers_train])\n",
        "#tableau.reshape(1,tableau.shape[1],tableau.shape[2])"
      ]
    },
    {
      "cell_type": "code",
      "execution_count": 164,
      "metadata": {
        "id": "woCMG8yffe1b",
        "colab": {
          "base_uri": "https://localhost:8080/"
        },
        "outputId": "ae52581a-a368-40b6-b476-e15edb319223"
      },
      "outputs": [
        {
          "output_type": "execute_result",
          "data": {
            "text/plain": [
              "[array([[    0,     0,     0, ...,   103, 15893,    93],\n",
              "        [    0,     0,     0, ...,   430,  1183,  3727],\n",
              "        [    0,     0,     0, ...,   115,     2, 11113],\n",
              "        ...,\n",
              "        [    0,     0,     0, ...,  1665,  1389,    32],\n",
              "        [    0,     0,     0, ...,  1303, 14675,   573],\n",
              "        [    0,     0,     0, ...,    12,   211,   173]], dtype=int32),\n",
              " array([[    0,     0,     0, ...,   103, 15893,    93],\n",
              "        [    0,     0,     0, ...,   430,  1183,  3727],\n",
              "        [    0,     0,     0, ...,   115,     2, 11113],\n",
              "        ...,\n",
              "        [    0,     0,     0, ...,  1665,  1389,    32],\n",
              "        [    0,     0,     0, ...,  1303, 14675,   573],\n",
              "        [    0,     0,     0, ...,    12,   211,   173]], dtype=int32)]"
            ]
          },
          "metadata": {},
          "execution_count": 164
        }
      ],
      "source": [
        "[questions_train, questions_train]"
      ]
    },
    {
      "cell_type": "code",
      "execution_count": 164,
      "metadata": {
        "id": "HBKDEYXp6mwx"
      },
      "outputs": [],
      "source": []
    }
  ],
  "metadata": {
    "accelerator": "GPU",
    "colab": {
      "provenance": []
    },
    "gpuClass": "standard",
    "kernelspec": {
      "display_name": "chatbot",
      "language": "python",
      "name": "python3"
    },
    "language_info": {
      "codemirror_mode": {
        "name": "ipython",
        "version": 3
      },
      "file_extension": ".py",
      "mimetype": "text/x-python",
      "name": "python",
      "nbconvert_exporter": "python",
      "pygments_lexer": "ipython3",
      "version": "3.7.15"
    },
    "vscode": {
      "interpreter": {
        "hash": "03041b0ab7cd1638a53e9defcca4554f53cc9626e5c5fef97f44058438290e8d"
      }
    }
  },
  "nbformat": 4,
  "nbformat_minor": 0
}